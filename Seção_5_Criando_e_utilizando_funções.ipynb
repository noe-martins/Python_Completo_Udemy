{
  "nbformat": 4,
  "nbformat_minor": 0,
  "metadata": {
    "colab": {
      "provenance": [],
      "toc_visible": true,
      "authorship_tag": "ABX9TyM1zcmoM0bccVq2Kt7UPPDD",
      "include_colab_link": true
    },
    "kernelspec": {
      "name": "python3",
      "display_name": "Python 3"
    },
    "language_info": {
      "name": "python"
    }
  },
  "cells": [
    {
      "cell_type": "markdown",
      "metadata": {
        "id": "view-in-github",
        "colab_type": "text"
      },
      "source": [
        "<a href=\"https://colab.research.google.com/github/noe-martins/Python_Completo_Udemy/blob/main/Se%C3%A7%C3%A3o_5_Criando_e_utilizando_fun%C3%A7%C3%B5es.ipynb\" target=\"_parent\"><img src=\"https://colab.research.google.com/assets/colab-badge.svg\" alt=\"Open In Colab\"/></a>"
      ]
    },
    {
      "cell_type": "markdown",
      "source": [
        "#Funções"
      ],
      "metadata": {
        "id": "YAoVpacYw8oa"
      }
    },
    {
      "cell_type": "code",
      "source": [
        "'''\n",
        "Declaração de funções em python\n",
        "'''\n",
        "def func():\n",
        "  num = 10\n",
        "  print(num)\n",
        "\n",
        "func()"
      ],
      "metadata": {
        "colab": {
          "base_uri": "https://localhost:8080/"
        },
        "id": "af8XYo7Ow_pX",
        "outputId": "0621a927-711c-4340-c4d1-4a1b2822aa98"
      },
      "execution_count": null,
      "outputs": [
        {
          "output_type": "stream",
          "name": "stdout",
          "text": [
            "10\n"
          ]
        }
      ]
    },
    {
      "cell_type": "markdown",
      "source": [
        "##Parte 1"
      ],
      "metadata": {
        "id": "Fgr6_qur4ncd"
      }
    },
    {
      "cell_type": "code",
      "source": [
        "'''\n",
        "Operações e Características\n",
        "'''\n",
        "#Funções que não retornam nada\n",
        "def func_nada():\n",
        "  pass\n",
        "\n",
        "func_nada()\n",
        "\n",
        "#Funções parametrizadas\n",
        "def func_param(numero):\n",
        "  print(numero)\n",
        "\n",
        "func_param(20)\n",
        "\n",
        "#Funções parametrizadas com dois parâmetros\n",
        "def func_param2(num1, num2):\n",
        "  print(num1, num2)\n",
        "\n",
        "func_param2(10,20)\n",
        "\n",
        "#Funções parametrizadas com vários parâmetros arbitrários\n",
        "def func_arb(*args):\n",
        "  # Faz no formato de Tupla\n",
        "  print(type(args))\n",
        "  print(args)\n",
        "\n",
        "func_arb(\"Nome\", 2, 1.1, True, [4,5,6])\n",
        "\n",
        "#Funções parametrizadas identificadas\n",
        "def func_idnt(num1, num2):\n",
        "  print(num1 + num2)\n",
        "\n",
        "func_idnt(num2 = 10, num1 = 8)\n",
        "\n",
        "#Funções arbitrárias e outros parâmetros\n",
        "def func_arb_outros(*args, outro):\n",
        "  print(args, outro)\n",
        "\n",
        "func_arb_outros(\"Nome\", 2, 1.1, True, [4,5,6], outro = 1)\n",
        "\n"
      ],
      "metadata": {
        "colab": {
          "base_uri": "https://localhost:8080/"
        },
        "id": "Oq5hjRD9xTT-",
        "outputId": "c18877e1-07e2-47cd-e109-b372feb47d4c"
      },
      "execution_count": null,
      "outputs": [
        {
          "output_type": "stream",
          "name": "stdout",
          "text": [
            "20\n",
            "10 20\n",
            "<class 'tuple'>\n",
            "('Nome', 2, 1.1, True, [4, 5, 6])\n",
            "18\n",
            "('Nome', 2, 1.1, True, [4, 5, 6]) 1\n"
          ]
        }
      ]
    },
    {
      "cell_type": "markdown",
      "source": [
        "##Parte 2"
      ],
      "metadata": {
        "id": "A0ROBtd64tNs"
      }
    },
    {
      "cell_type": "code",
      "source": [
        "'''\n",
        "Operações e Características\n",
        "'''\n",
        "#Funções com parâmetros fixos\n",
        "def func_fix(valor, nome = \"Teste\"):\n",
        "  print(\"{} = {}\".format(nome, valor))\n",
        "\n",
        "func_fix(3) #Se passado só um argumento, ele usurá o fixo\n",
        "func_fix(4, \"Noé\") #Se passar o outro argumento, ele substituirá pelo fixo\n",
        "\n",
        "#Fuções arbitrária que forma um Dictionary\n",
        "def func_dic(**args):\n",
        "  print(type(args))\n",
        "  print(args)\n",
        "  print(args['valor'])\n",
        "\n",
        "func_dic(produto = 'Pente', valor = 10.50)\n",
        "\n",
        "#Função de um função\n",
        "def printa(x):\n",
        "  print(x)\n",
        "\n",
        "def executa(func, x):\n",
        "  func(x)\n",
        "\n",
        "minha_func = printa\n",
        "print(type(minha_func))\n",
        "\n",
        "'Pode passar diretamente a função sem o argumento'\n",
        "executa(minha_func,10)\n",
        "executa(printa,10)"
      ],
      "metadata": {
        "colab": {
          "base_uri": "https://localhost:8080/"
        },
        "id": "NT0rCvOt4ucO",
        "outputId": "9e40bfab-6cf8-447e-def7-b1bea3141b2e"
      },
      "execution_count": null,
      "outputs": [
        {
          "output_type": "stream",
          "name": "stdout",
          "text": [
            "Teste = 3\n",
            "Noé = 4\n",
            "<class 'dict'>\n",
            "{'produto': 'Pente', 'valor': 10.5}\n",
            "10.5\n",
            "<class 'function'>\n",
            "10\n",
            "10\n"
          ]
        }
      ]
    },
    {
      "cell_type": "markdown",
      "source": [
        "#Funções com Retorno Valores"
      ],
      "metadata": {
        "id": "eDgis2f6pUkH"
      }
    },
    {
      "cell_type": "code",
      "source": [
        "'''\n",
        "Operações\n",
        "'''\n",
        "#Função comum\n",
        "def func_sub(valor1, valor2):\n",
        "  return valor1 - valor2\n",
        "\n",
        "sub = func_sub(10,5)\n",
        "print(sub)\n",
        "\n",
        "#Função que retorna o tamanho\n",
        "def func_len(valor):\n",
        "  return len(str(valor))\n",
        "\n",
        "tamanho = func_len(1000)\n",
        "print(\"Quantidade de digitos/Caractere: {}\".format(tamanho))\n",
        "\n",
        "#Função com multiplos retornos\n",
        "def func_mult():\n",
        "  return 'a',5,True\n",
        "\n",
        "multi_valor = func_mult()\n",
        "print(type(multi_valor)) #Retorna um tupla\n",
        "print(multi_valor)\n",
        "\n",
        "#Função com multiplos retornos para cada variável\n",
        "def func_multV(a,b,c):\n",
        "  a += a\n",
        "  b += c\n",
        "  c += c\n",
        "  return a,b,c\n",
        "\n",
        "x,y,z = func_multV(1,2,3)\n",
        "print(x,y,z)\n",
        "\n",
        "w = func_multV(1,2,3)\n",
        "print(w)\n",
        "\n",
        "#Função com diferente tipos de retorno\n",
        "def func_retornoM(x):\n",
        "  if x == 1:\n",
        "    print(\"É um!\")\n",
        "    return #Aqui o return para a função\n",
        "  print(\"Não é um!\")\n",
        "  return\n",
        "\n",
        "func_retornoM(1)\n",
        "func_retornoM(2)"
      ],
      "metadata": {
        "colab": {
          "base_uri": "https://localhost:8080/"
        },
        "id": "gMIMqUuWpe8K",
        "outputId": "f0b3590a-73ee-4490-c6f7-150b0fef13e3"
      },
      "execution_count": null,
      "outputs": [
        {
          "output_type": "stream",
          "name": "stdout",
          "text": [
            "5\n",
            "Quantidade de digitos/Caractere: 4\n",
            "<class 'tuple'>\n",
            "('a', 5, True)\n",
            "2 5 6\n",
            "(2, 5, 6)\n",
            "É um!\n",
            "Não é um!\n"
          ]
        }
      ]
    },
    {
      "cell_type": "markdown",
      "source": [
        "#Funções Lambda"
      ],
      "metadata": {
        "id": "NwzRE_WIt2ZT"
      }
    },
    {
      "cell_type": "code",
      "source": [
        "#Declaração de Funções Lambda\n",
        "soma = lambda x : x + 2\n",
        "y = soma(10)\n",
        "print(y)\n",
        "\n",
        "#Lambda com dois parâmetros\n",
        "multiplica = lambda x,y : x * y\n",
        "m = multiplica(2,3)\n",
        "print(m)\n",
        "\n",
        "#Retornando uma função lambda em uma função comum\n",
        "def divisao(divisor):\n",
        "  return lambda x : divisor / x\n",
        "\n",
        "divisor = divisao(10) #Passou o parâmetro da função 'divisao'\n",
        "result = divisor(2) #Passou o parâmetro da função Lambda\n",
        "print(result)"
      ],
      "metadata": {
        "colab": {
          "base_uri": "https://localhost:8080/"
        },
        "id": "Ij7qJTjVt3zl",
        "outputId": "b64185ea-a3bd-4e1a-c3a4-4cc76af68907"
      },
      "execution_count": null,
      "outputs": [
        {
          "output_type": "stream",
          "name": "stdout",
          "text": [
            "12\n",
            "6\n",
            "5.0\n"
          ]
        }
      ]
    },
    {
      "cell_type": "markdown",
      "source": [
        "#Funções Recursivas"
      ],
      "metadata": {
        "id": "eBIApq0EReKp"
      }
    },
    {
      "cell_type": "code",
      "source": [
        "'''\n",
        "Funções recursivas se comportam como loops\n",
        "'''"
      ],
      "metadata": {
        "id": "J9wzEd7eRhS5"
      },
      "execution_count": null,
      "outputs": []
    },
    {
      "cell_type": "code",
      "source": [
        "#Exemplo 1 - Incrementando\n",
        "def func_recSoma(num):\n",
        "  print(num)\n",
        "  if num >= 10:\n",
        "    return\n",
        "  func_recSoma(num + 1) #Funcionará como um loop incrementando o 'num'\n",
        "\n",
        "func_recSoma(0)"
      ],
      "metadata": {
        "id": "2RQLiQAPuOey",
        "colab": {
          "base_uri": "https://localhost:8080/"
        },
        "outputId": "ee357944-22be-4118-ff7a-9189906c91d1"
      },
      "execution_count": 2,
      "outputs": [
        {
          "output_type": "stream",
          "name": "stdout",
          "text": [
            "0\n",
            "1\n",
            "2\n",
            "3\n",
            "4\n",
            "5\n",
            "6\n",
            "7\n",
            "8\n",
            "9\n",
            "10\n"
          ]
        }
      ]
    },
    {
      "cell_type": "code",
      "source": [
        "#Exemplo 2 - Tamanho de uma String\n",
        "def func_recText(texto, indice):\n",
        "  if indice == len(texto):\n",
        "    return\n",
        "  print(texto[indice])\n",
        "  func_recText(texto, indice + 1)\n",
        "\n",
        "func_recText(\"Martins\", 0)"
      ],
      "metadata": {
        "colab": {
          "base_uri": "https://localhost:8080/"
        },
        "id": "bsBGWO0zR_uJ",
        "outputId": "95c9877c-d085-4624-db5a-56f55fec59e6"
      },
      "execution_count": 4,
      "outputs": [
        {
          "output_type": "stream",
          "name": "stdout",
          "text": [
            "M\n",
            "a\n",
            "r\n",
            "t\n",
            "i\n",
            "n\n",
            "s\n"
          ]
        }
      ]
    },
    {
      "cell_type": "code",
      "source": [
        "#Exemplo 3 - Fatorial\n",
        "def func_recFatorial(num):\n",
        "  if num == 1:\n",
        "    return 1\n",
        "  return num * func_recFatorial(num - 1)\n",
        "\n",
        "func_recFatorial(5)"
      ],
      "metadata": {
        "colab": {
          "base_uri": "https://localhost:8080/"
        },
        "id": "dLSMZbnhSrxx",
        "outputId": "fba2225b-0ec2-4425-d714-ed3bec2628ec"
      },
      "execution_count": 5,
      "outputs": [
        {
          "output_type": "execute_result",
          "data": {
            "text/plain": [
              "120"
            ]
          },
          "metadata": {},
          "execution_count": 5
        }
      ]
    },
    {
      "cell_type": "markdown",
      "source": [
        "#Funções Aninhadas"
      ],
      "metadata": {
        "id": "dFPEV7JlXHRI"
      }
    },
    {
      "cell_type": "code",
      "source": [
        "#Exemplo 1 - Calculadora\n",
        "def calculadora(num1, num2, op):\n",
        "  def soma(a, b):\n",
        "    return a + b\n",
        "  def subtracao(a, b):\n",
        "    return a - b\n",
        "  if (op == '+'):\n",
        "    return soma(num1, num2)\n",
        "  elif (op == '-'):\n",
        "    return subtracao(num1, num2)\n",
        "  else:\n",
        "    return 'Não existe esse operador'\n",
        "\n",
        "print(calculadora(5,2,'+'))\n",
        "print(calculadora(5,2,'-'))\n",
        "print(calculadora(5,2,'b'))"
      ],
      "metadata": {
        "colab": {
          "base_uri": "https://localhost:8080/"
        },
        "id": "B-rwHuauXJDq",
        "outputId": "02fabfde-5958-42bf-cf90-c43aa5ee01fa"
      },
      "execution_count": 12,
      "outputs": [
        {
          "output_type": "stream",
          "name": "stdout",
          "text": [
            "7\n",
            "3\n",
            "Não existe esse operador\n"
          ]
        }
      ]
    },
    {
      "cell_type": "code",
      "source": [
        "#Exemplo 2 - Imprimir dentro de outra função\n",
        "def func_principal():\n",
        "  def func_sec(label):\n",
        "    print(label)\n",
        "  return func_sec\n",
        "\n",
        "imprimir = func_principal() #O retorno dessa função é outra função que está dentro dela\n",
        "imprimir('Maluco no pedaço')"
      ],
      "metadata": {
        "colab": {
          "base_uri": "https://localhost:8080/"
        },
        "id": "vGQkz_KmYUKl",
        "outputId": "2984f734-a485-4167-ba85-fdbcab43ec22"
      },
      "execution_count": 18,
      "outputs": [
        {
          "output_type": "stream",
          "name": "stdout",
          "text": [
            "Maluco no pedaço\n"
          ]
        }
      ]
    },
    {
      "cell_type": "markdown",
      "source": [
        "#Decorators"
      ],
      "metadata": {
        "id": "IsLV5bZWdBOc"
      }
    },
    {
      "cell_type": "code",
      "source": [
        "'''\n",
        "OBS:\n",
        "  - Decorators são uma especificação para o compilador de que aquela\n",
        "  função será parâmetro em outra.\n",
        "  - O funcionamento dessas funções recursivas é como se fosse um esperial\n",
        "'''\n",
        "#Exemplo 1 - Deixar maiúsculo\n",
        "def deixarMaiusculo(func):\n",
        "  def inner_func():\n",
        "    return func().upper()\n",
        "  return inner_func\n",
        "\n",
        "@deixarMaiusculo\n",
        "def texto():\n",
        "  return 'texto para transformar!'\n",
        "\n",
        "valor_texto = texto();\n",
        "print(type(valor_texto))\n",
        "print(valor_texto)"
      ],
      "metadata": {
        "colab": {
          "base_uri": "https://localhost:8080/"
        },
        "id": "Z4vUJovrZO38",
        "outputId": "22319827-f523-44b4-b672-746477002d66"
      },
      "execution_count": 21,
      "outputs": [
        {
          "output_type": "stream",
          "name": "stdout",
          "text": [
            "<class 'str'>\n",
            "TEXTO PARA TRANSFORMAR!\n"
          ]
        }
      ]
    },
    {
      "cell_type": "code",
      "source": [
        "#Exemplo 2 - Deixar maiúsculo e concatenar\n",
        "def deixarMaiusculoConc(func):\n",
        "  def inner_func(str1, str2):\n",
        "    return func(str1,str2).upper()\n",
        "  return inner_func\n",
        "\n",
        "@deixarMaiusculoConc\n",
        "def concatena_string(str1, str2):\n",
        "  return str1 + str2\n",
        "\n",
        "texto_completo = concatena_string('Mar', 'tins')\n",
        "print(texto_completo)"
      ],
      "metadata": {
        "colab": {
          "base_uri": "https://localhost:8080/"
        },
        "id": "2mGXTV2meplN",
        "outputId": "e072c17b-5177-47bb-819d-604175be5c24"
      },
      "execution_count": 22,
      "outputs": [
        {
          "output_type": "stream",
          "name": "stdout",
          "text": [
            "MARTINS\n"
          ]
        }
      ]
    },
    {
      "cell_type": "code",
      "source": [
        "#Exemplo 3 - Deixar maiúsculo Colocar entre parêntese\n",
        "def deixarMaiusculo2(func):\n",
        "  def inner_func(blabla): #Esse parâmetro 'texto' é o mesmo do parâmetro da função 'texto_modificar()'\n",
        "    return func(blabla).upper() #Ele aplicca na função e faz o upperCase\n",
        "  return inner_func\n",
        "\n",
        "def colocarParentese(func):\n",
        "  def inner_func(texto):\n",
        "    return '(' + func(texto) + ')'\n",
        "  return inner_func\n",
        "\n",
        "@deixarMaiusculo2\n",
        "@colocarParentese\n",
        "def texto_modificar(texto):\n",
        "  return texto\n",
        "\n",
        "texto_completo2 = texto_modificar('Martins')\n",
        "print(texto_completo2)"
      ],
      "metadata": {
        "colab": {
          "base_uri": "https://localhost:8080/"
        },
        "id": "eZG8dfB7fqFC",
        "outputId": "4e48a477-43cf-4df2-97ce-b67270a30728"
      },
      "execution_count": 32,
      "outputs": [
        {
          "output_type": "stream",
          "name": "stdout",
          "text": [
            "(MARTINS)\n"
          ]
        }
      ]
    },
    {
      "cell_type": "code",
      "source": [],
      "metadata": {
        "id": "BnVvM-Wxg6EP"
      },
      "execution_count": null,
      "outputs": []
    }
  ]
}
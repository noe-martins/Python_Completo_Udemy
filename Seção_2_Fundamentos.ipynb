{
  "nbformat": 4,
  "nbformat_minor": 0,
  "metadata": {
    "colab": {
      "provenance": [],
      "toc_visible": true,
      "authorship_tag": "ABX9TyPcpqyVusdX3nR5Sd7KzWkb",
      "include_colab_link": true
    },
    "kernelspec": {
      "name": "python3",
      "display_name": "Python 3"
    },
    "language_info": {
      "name": "python"
    }
  },
  "cells": [
    {
      "cell_type": "markdown",
      "metadata": {
        "id": "view-in-github",
        "colab_type": "text"
      },
      "source": [
        "<a href=\"https://colab.research.google.com/github/noe-martins/Python_Completo_Udemy/blob/main/Se%C3%A7%C3%A3o_2_Fundamentos.ipynb\" target=\"_parent\"><img src=\"https://colab.research.google.com/assets/colab-badge.svg\" alt=\"Open In Colab\"/></a>"
      ]
    },
    {
      "cell_type": "code",
      "execution_count": null,
      "metadata": {
        "id": "SuRwFH53g-fY"
      },
      "outputs": [],
      "source": []
    },
    {
      "cell_type": "code",
      "source": [
        "from google.colab import drive\n",
        "drive.mount('/content/drive')"
      ],
      "metadata": {
        "colab": {
          "base_uri": "https://localhost:8080/"
        },
        "id": "0GipRERLkJR0",
        "outputId": "2a0e643d-07c0-4b01-f52d-e99be666c7d0"
      },
      "execution_count": null,
      "outputs": [
        {
          "output_type": "stream",
          "name": "stdout",
          "text": [
            "Mounted at /content/drive\n"
          ]
        }
      ]
    },
    {
      "cell_type": "markdown",
      "source": [
        "#<b>Comentários e Método Print (Aula 10 a 14)"
      ],
      "metadata": {
        "id": "-ogc4oMAp1JE"
      }
    },
    {
      "cell_type": "markdown",
      "source": [
        "## Comentários"
      ],
      "metadata": {
        "id": "0_9lxccnqFAi"
      }
    },
    {
      "cell_type": "code",
      "source": [
        "# isso é um comentário\n",
        "# outro comentário\n",
        "print(\"Olá Mundo\")"
      ],
      "metadata": {
        "colab": {
          "base_uri": "https://localhost:8080/"
        },
        "id": "0nRSs3ztkLHb",
        "outputId": "e19a909e-7c9c-4142-e2fd-08aefecd0191"
      },
      "execution_count": null,
      "outputs": [
        {
          "output_type": "stream",
          "name": "stdout",
          "text": [
            "Olá Mundo\n"
          ]
        }
      ]
    },
    {
      "cell_type": "code",
      "source": [
        "''' Isso não é um comentário\n",
        "mas uma string de múltipla linhas'''"
      ],
      "metadata": {
        "colab": {
          "base_uri": "https://localhost:8080/",
          "height": 35
        },
        "id": "3hRr9yP6kyfP",
        "outputId": "ace9d5da-bbd8-4611-a67e-bdd11254d8e0"
      },
      "execution_count": null,
      "outputs": [
        {
          "output_type": "execute_result",
          "data": {
            "text/plain": [
              "' Isso não é um comentário\\nmas uma string de múltipla linhas'"
            ],
            "application/vnd.google.colaboratory.intrinsic+json": {
              "type": "string"
            }
          },
          "metadata": {},
          "execution_count": 3
        }
      ]
    },
    {
      "cell_type": "markdown",
      "source": [
        "## Print's"
      ],
      "metadata": {
        "id": "W2n7ePQlqNSR"
      }
    },
    {
      "cell_type": "code",
      "source": [
        "print(\"Olá mundo\")\n",
        "print(10)\n",
        "print(20.5)"
      ],
      "metadata": {
        "colab": {
          "base_uri": "https://localhost:8080/"
        },
        "id": "K8_KRV8elK9z",
        "outputId": "8bd5537e-4a7a-46a2-959e-a9dfb0412e06"
      },
      "execution_count": null,
      "outputs": [
        {
          "output_type": "stream",
          "name": "stdout",
          "text": [
            "Olá mundo\n",
            "10\n",
            "20.5\n"
          ]
        }
      ]
    },
    {
      "cell_type": "code",
      "source": [
        "# Separando por \",\"\n",
        "print(\"Maçã\", 20, 30.5)"
      ],
      "metadata": {
        "colab": {
          "base_uri": "https://localhost:8080/"
        },
        "id": "Sqz5NtcLl69m",
        "outputId": "054b1d52-5075-4c42-825e-215ee1b22799"
      },
      "execution_count": null,
      "outputs": [
        {
          "output_type": "stream",
          "name": "stdout",
          "text": [
            "Maçã 20 30.5\n"
          ]
        }
      ]
    },
    {
      "cell_type": "code",
      "source": [
        "# Separando pelo \"sep=\"\n",
        "print(\"Maçã\", \"Pera\", \"Uva\", sep=' - ')"
      ],
      "metadata": {
        "colab": {
          "base_uri": "https://localhost:8080/"
        },
        "id": "9-rsKU1QmHIW",
        "outputId": "d1cc706b-ec1d-447d-a360-b34c65c4fa0b"
      },
      "execution_count": null,
      "outputs": [
        {
          "output_type": "stream",
          "name": "stdout",
          "text": [
            "Maçã - Pera - Uva\n"
          ]
        }
      ]
    },
    {
      "cell_type": "code",
      "source": [
        "# Separando com o \"sep=\" e colocando String no final com o \"end\"\n",
        "print(\"Maça\", \"Pera\", sep=' - ', end=' (Fim)')"
      ],
      "metadata": {
        "colab": {
          "base_uri": "https://localhost:8080/"
        },
        "id": "z2RZDWyCmPpm",
        "outputId": "8c3021bc-0cbe-4ee1-a665-e0bfc940e7bd"
      },
      "execution_count": null,
      "outputs": [
        {
          "output_type": "stream",
          "name": "stdout",
          "text": [
            "Maça - Pera (Fim)"
          ]
        }
      ]
    },
    {
      "cell_type": "code",
      "source": [
        "# Usando o \"\\n\" dentro do \"sep=\" para quebrar cada parâmetro\n",
        "print(\"Maçã\", \"Pêra\", sep='\\n')"
      ],
      "metadata": {
        "colab": {
          "base_uri": "https://localhost:8080/"
        },
        "id": "4RQFTtp0ntOU",
        "outputId": "75e9cb71-c5ca-475a-eb1e-557a71816913"
      },
      "execution_count": null,
      "outputs": [
        {
          "output_type": "stream",
          "name": "stdout",
          "text": [
            "Maçã\n",
            "Pêra\n"
          ]
        }
      ]
    },
    {
      "cell_type": "code",
      "source": [
        "# Usando o \"%s\" para apontar para uma string\n",
        "print(\"A pontuação do %s foi %s\" % (\"Fernando\", \"10\"))"
      ],
      "metadata": {
        "colab": {
          "base_uri": "https://localhost:8080/"
        },
        "id": "zthC21xQoPeR",
        "outputId": "4fa360f1-5ee6-486f-b20f-91163c75a57c"
      },
      "execution_count": null,
      "outputs": [
        {
          "output_type": "stream",
          "name": "stdout",
          "text": [
            "A pontuação do Fernando foi 10\n"
          ]
        }
      ]
    },
    {
      "cell_type": "code",
      "source": [
        "# Usando o \"{}\" \".format() para apontar para uma string (Essa é a mais elegante)\n",
        "print(\"A pontuação do {} foi {}\".format(\"Fernando\", \"10\"))"
      ],
      "metadata": {
        "colab": {
          "base_uri": "https://localhost:8080/"
        },
        "id": "iBQL-gbfpDhO",
        "outputId": "57e497fe-3577-404e-e4e2-4b0ea462de9c"
      },
      "execution_count": null,
      "outputs": [
        {
          "output_type": "stream",
          "name": "stdout",
          "text": [
            "A pontuação do Fernando foi 10\n"
          ]
        }
      ]
    },
    {
      "cell_type": "markdown",
      "source": [
        "## Atividades"
      ],
      "metadata": {
        "id": "k7xJj9t8qqfV"
      }
    },
    {
      "cell_type": "code",
      "source": [],
      "metadata": {
        "id": "8w-qKpXxqsVy"
      },
      "execution_count": null,
      "outputs": []
    },
    {
      "cell_type": "markdown",
      "source": [
        "### 1°"
      ],
      "metadata": {
        "id": "Df3KvPEuqvYT"
      }
    },
    {
      "cell_type": "code",
      "source": [
        "print(\"Noé Martins de Melo Ribeiro\")\n",
        "print(28)\n",
        "print(1.75)"
      ],
      "metadata": {
        "colab": {
          "base_uri": "https://localhost:8080/"
        },
        "id": "t0iSkyOQqw9J",
        "outputId": "e1dc7753-d721-4bc6-dd71-287d021dbf85"
      },
      "execution_count": null,
      "outputs": [
        {
          "output_type": "stream",
          "name": "stdout",
          "text": [
            "Noé Martins de Melo Ribeiro\n",
            "28\n",
            "1.75\n"
          ]
        }
      ]
    },
    {
      "cell_type": "code",
      "source": [],
      "metadata": {
        "id": "Y_sXOutQq7p5"
      },
      "execution_count": null,
      "outputs": []
    },
    {
      "cell_type": "markdown",
      "source": [
        "### 2°"
      ],
      "metadata": {
        "id": "x6j3a7ojq-sS"
      }
    },
    {
      "cell_type": "code",
      "source": [
        "print(\"Noé Martins de Melo Ribeiro\", 28, 1.75)"
      ],
      "metadata": {
        "colab": {
          "base_uri": "https://localhost:8080/"
        },
        "id": "qFBUgSpoq_xh",
        "outputId": "f3e1f559-42b9-4a01-8741-be17eb3a981d"
      },
      "execution_count": null,
      "outputs": [
        {
          "output_type": "stream",
          "name": "stdout",
          "text": [
            "Noé Martins de Melo Ribeiro 28 1.75\n"
          ]
        }
      ]
    },
    {
      "cell_type": "code",
      "source": [
        "print(\"Nome: {}\\nIdade: {}\\nAltura: {}\".format(\"Noé Martins de Melo Ribeiro\", 28, 1.75))"
      ],
      "metadata": {
        "colab": {
          "base_uri": "https://localhost:8080/"
        },
        "id": "KdR0xrFUrGbS",
        "outputId": "ef4d7eb2-3169-4d98-eeae-c302ef4c0dae"
      },
      "execution_count": null,
      "outputs": [
        {
          "output_type": "stream",
          "name": "stdout",
          "text": [
            "Nome: Noé Martins de Melo Ribeiro\n",
            "Idade: 28\n",
            "Altura: 1.75\n"
          ]
        }
      ]
    },
    {
      "cell_type": "markdown",
      "source": [
        "### 3°"
      ],
      "metadata": {
        "id": "E36ANqQrrIcS"
      }
    },
    {
      "cell_type": "code",
      "source": [
        "print(1, 2, 3, sep=' - ')"
      ],
      "metadata": {
        "colab": {
          "base_uri": "https://localhost:8080/"
        },
        "id": "yinO1GJIrJvB",
        "outputId": "665c6ebc-c2f8-4195-e5ad-4fff40963b2f"
      },
      "execution_count": null,
      "outputs": [
        {
          "output_type": "stream",
          "name": "stdout",
          "text": [
            "1 - 2 - 3\n"
          ]
        }
      ]
    },
    {
      "cell_type": "code",
      "source": [],
      "metadata": {
        "id": "nOvezveesP6y"
      },
      "execution_count": null,
      "outputs": []
    },
    {
      "cell_type": "markdown",
      "source": [
        "#<b>Principais Variáveis (Aula 15 a 18)\n",
        "\n",
        "\n"
      ],
      "metadata": {
        "id": "4OJ0cVFVsQXX"
      }
    },
    {
      "cell_type": "code",
      "source": [],
      "metadata": {
        "id": "DSXAVKbfsS8l"
      },
      "execution_count": null,
      "outputs": []
    },
    {
      "cell_type": "markdown",
      "source": [
        "##Atividade"
      ],
      "metadata": {
        "id": "CpzXsyKPoh69"
      }
    },
    {
      "cell_type": "markdown",
      "source": [
        "###Primeira Questão"
      ],
      "metadata": {
        "id": "2gkHKbNDpfIY"
      }
    },
    {
      "cell_type": "code",
      "source": [
        "#Primitivos\n",
        "inteiro = 10\n",
        "flutuante = 10.2\n",
        "bolleano = True\n",
        "texto = \"Essa é uma String\""
      ],
      "metadata": {
        "id": "G0XhkfftolET"
      },
      "execution_count": null,
      "outputs": []
    },
    {
      "cell_type": "code",
      "source": [
        "print(inteiro, flutuante, bolleano, texto, sep=\"\\n\")"
      ],
      "metadata": {
        "colab": {
          "base_uri": "https://localhost:8080/"
        },
        "id": "86OiEVb8pMjq",
        "outputId": "beab52d0-c542-41a8-bea3-7a8127d44b3b"
      },
      "execution_count": null,
      "outputs": [
        {
          "output_type": "stream",
          "name": "stdout",
          "text": [
            "10\n",
            "10.2\n",
            "True\n",
            "Essa é uma String\n"
          ]
        }
      ]
    },
    {
      "cell_type": "markdown",
      "source": [
        "###Segunda Questão"
      ],
      "metadata": {
        "id": "X8zgcP-xpzVG"
      }
    },
    {
      "cell_type": "code",
      "source": [
        "nome = \"Noé Martins\"\n",
        "cpf = \"4165821330\"\n",
        "cpf_corrigido = str.zfill(cpf, 11) # Esse método coloca um zero a esquerda no número até preenhcer o número de casas dadas no parâmetro da função\n",
        "estado_civil = \"Casado\"\n",
        "\n",
        "print(\"O Nome registrado é: {}\".format(nome), \"O cpf é: {}\".format(cpf_corrigido), \"O Estado civil é: {}\".format(estado_civil), sep=\"\\n\")"
      ],
      "metadata": {
        "id": "Ps6DjF5Yp2Pm",
        "colab": {
          "base_uri": "https://localhost:8080/"
        },
        "outputId": "e1a07fdc-b386-47d3-ba69-844e8b517a72"
      },
      "execution_count": null,
      "outputs": [
        {
          "output_type": "stream",
          "name": "stdout",
          "text": [
            "O Nome registrado é: Noé Martins\n",
            "O cpf é: 04165821330\n",
            "O Estado civil é: Casado\n"
          ]
        }
      ]
    },
    {
      "cell_type": "code",
      "source": [],
      "metadata": {
        "id": "TcgqBt1yCdUk"
      },
      "execution_count": null,
      "outputs": []
    },
    {
      "cell_type": "markdown",
      "source": [
        "#<b>Formatação (Aula 19 a 24)"
      ],
      "metadata": {
        "id": "gjnfX22wGQ01"
      }
    },
    {
      "cell_type": "code",
      "source": [
        "inteiro = 17 #Uso o %d\n",
        "flutuante = 1.58 #Usa o %f\n",
        "Texto = \"blábláblá\" #Usa o %s\n",
        "bolleano = True #Usa o %s (Para mostrar em texto) | Usa o %d (Para mostrar em inteiro)\n",
        "\n",
        "print(\"flutuante é: %.2f\" % (flutuante))\n",
        "print(\"flutuante é: {:.2f}\".format(flutuante))\n",
        "print(\"Parte inteira do flutuante: %d\" % (flutuante))\n",
        "print(\"Parte inteira do flutuante: {}\".format(int(flutuante))) # Aqui houve uma conversão para número inteiro\n",
        "\n",
        "print(\"Booleano é: %d\" % (bolleano))\n",
        "print(\"Booleano é: {:d}\".format(bolleano))"
      ],
      "metadata": {
        "colab": {
          "base_uri": "https://localhost:8080/"
        },
        "id": "qrh9uW1gGToy",
        "outputId": "6d2cd178-4ec8-48fe-b021-971324d6f8e2"
      },
      "execution_count": null,
      "outputs": [
        {
          "output_type": "stream",
          "name": "stdout",
          "text": [
            "flutuante é: 1.58\n",
            "flutuante é: 1.58\n",
            "Parte inteira do flutuante: 1\n",
            "Parte inteira do flutuante: 1\n",
            "Booleano é: 1\n",
            "Booleano é: 1\n"
          ]
        }
      ]
    },
    {
      "cell_type": "code",
      "source": [],
      "metadata": {
        "id": "03SueoO3IHse"
      },
      "execution_count": null,
      "outputs": []
    },
    {
      "cell_type": "markdown",
      "source": [
        "##Atividade"
      ],
      "metadata": {
        "id": "wsDJXsp2M26U"
      }
    },
    {
      "cell_type": "markdown",
      "source": [
        "###1° - Primeira Questão"
      ],
      "metadata": {
        "id": "0DDGCl8qM-Fy"
      }
    },
    {
      "cell_type": "code",
      "source": [
        "dia = 23; mes = 11; ano = 1994\n",
        "print(\"Data de Nascimento é: {}/{}/{}\".format(dia, mes, ano))"
      ],
      "metadata": {
        "colab": {
          "base_uri": "https://localhost:8080/"
        },
        "id": "uHzWsF9_M42y",
        "outputId": "33792af5-514b-4b13-f410-e608437551cf"
      },
      "execution_count": null,
      "outputs": [
        {
          "output_type": "stream",
          "name": "stdout",
          "text": [
            "Data de Nascimento é: 23/11/1994\n"
          ]
        }
      ]
    },
    {
      "cell_type": "markdown",
      "source": [
        "###2° - Questão"
      ],
      "metadata": {
        "id": "kM_09V1mOoO0"
      }
    },
    {
      "cell_type": "code",
      "source": [
        "hora = 11; minuto = 8\n",
        "print(\"Agora são {} horas e {} minutos\".format(hora, minuto))"
      ],
      "metadata": {
        "colab": {
          "base_uri": "https://localhost:8080/"
        },
        "id": "vkzJ-tJPNSRS",
        "outputId": "efe59b05-7bfd-46ef-feb3-b39be606749b"
      },
      "execution_count": null,
      "outputs": [
        {
          "output_type": "stream",
          "name": "stdout",
          "text": [
            "Agora são 11 horas e 8 minutos\n"
          ]
        }
      ]
    },
    {
      "cell_type": "markdown",
      "source": [
        "###3° - Questão"
      ],
      "metadata": {
        "id": "M4suggJZOslb"
      }
    },
    {
      "cell_type": "code",
      "source": [
        "pi = 3.14159265359\n",
        "print(\"O PI é {:.5f}\".format(pi))"
      ],
      "metadata": {
        "colab": {
          "base_uri": "https://localhost:8080/"
        },
        "id": "OUkYiTiFOisr",
        "outputId": "1aedc927-ea4c-4271-d3d3-cabb8fb4b810"
      },
      "execution_count": null,
      "outputs": [
        {
          "output_type": "stream",
          "name": "stdout",
          "text": [
            "O PI é 3.14159\n"
          ]
        }
      ]
    },
    {
      "cell_type": "markdown",
      "source": [
        "#<b>Operadores Aritiméticos"
      ],
      "metadata": {
        "id": "TDtgyen_kwqM"
      }
    },
    {
      "cell_type": "code",
      "source": [
        "#Operações simples\n",
        "adicao = 10 + 10\n",
        "subtracao = 10 - 10\n",
        "multiplicacao = 10 * 10\n",
        "divisao = 10 / 10\n",
        "print(adicao)\n",
        "print(subtracao)\n",
        "print(multiplicacao)\n",
        "print(divisao)"
      ],
      "metadata": {
        "id": "-fUdnHwNO1ZT",
        "colab": {
          "base_uri": "https://localhost:8080/"
        },
        "outputId": "3059401c-4d7f-4707-e814-bd3cf9d5e808"
      },
      "execution_count": null,
      "outputs": [
        {
          "output_type": "stream",
          "name": "stdout",
          "text": [
            "20\n",
            "0\n",
            "100\n",
            "1.0\n"
          ]
        }
      ]
    },
    {
      "cell_type": "code",
      "source": [
        "#Operações especiais\n",
        "divisao_por_inteiros = 20 // 10.5\n",
        "exponenciacao = 2 ** 4\n",
        "resto_divisao = 10 % 3\n",
        "print(divisao_por_inteiros)\n",
        "print(exponenciacao)\n",
        "print(resto_divisao)"
      ],
      "metadata": {
        "colab": {
          "base_uri": "https://localhost:8080/"
        },
        "id": "zAUH4VKal4HH",
        "outputId": "f6680967-3969-4255-8849-e430715612b3"
      },
      "execution_count": null,
      "outputs": [
        {
          "output_type": "stream",
          "name": "stdout",
          "text": [
            "1.0\n",
            "16\n",
            "1\n"
          ]
        }
      ]
    },
    {
      "cell_type": "markdown",
      "source": [
        "## Atividades"
      ],
      "metadata": {
        "id": "EmWpuTi0pAIs"
      }
    },
    {
      "cell_type": "markdown",
      "source": [
        "### 1° Primeira Questão"
      ],
      "metadata": {
        "id": "5cU08PvhpCuE"
      }
    },
    {
      "cell_type": "code",
      "source": [
        "ano_hoje = 2023\n",
        "ano_nascimento = 1994\n",
        "print(2023 - 1994)"
      ],
      "metadata": {
        "colab": {
          "base_uri": "https://localhost:8080/"
        },
        "id": "efk71Fs6mTg3",
        "outputId": "5bac516f-693d-42bc-b7cf-c8ea24948584"
      },
      "execution_count": null,
      "outputs": [
        {
          "output_type": "stream",
          "name": "stdout",
          "text": [
            "29\n"
          ]
        }
      ]
    },
    {
      "cell_type": "markdown",
      "source": [
        "### 2° - Questão"
      ],
      "metadata": {
        "id": "JVD86w0hpare"
      }
    },
    {
      "cell_type": "code",
      "source": [
        "num1 = 10; num2 = 20; num3 = 30\n",
        "print((num1 + num2 + num3) / 3)"
      ],
      "metadata": {
        "colab": {
          "base_uri": "https://localhost:8080/"
        },
        "id": "yFm00fzVpY-_",
        "outputId": "e8e2a38d-44a7-42a5-c9fe-b0e90be95a1b"
      },
      "execution_count": null,
      "outputs": [
        {
          "output_type": "stream",
          "name": "stdout",
          "text": [
            "20.0\n"
          ]
        }
      ]
    },
    {
      "cell_type": "markdown",
      "source": [
        "### 3° - Questão"
      ],
      "metadata": {
        "id": "VKpixjfppxDW"
      }
    },
    {
      "cell_type": "code",
      "source": [
        "peso = 75\n",
        "altura = 1.75\n",
        "IMC = (peso / altura) ** 2\n",
        "print(\"{:.2f}\".format(IMC))"
      ],
      "metadata": {
        "colab": {
          "base_uri": "https://localhost:8080/"
        },
        "id": "Ls75m9HZpsIu",
        "outputId": "63b636c8-1670-4d3c-9d6e-dd9b5db59124"
      },
      "execution_count": null,
      "outputs": [
        {
          "output_type": "stream",
          "name": "stdout",
          "text": [
            "1836.73\n"
          ]
        }
      ]
    },
    {
      "cell_type": "markdown",
      "source": [
        "###4° - Questão"
      ],
      "metadata": {
        "id": "9AT_yJBKqYPe"
      }
    },
    {
      "cell_type": "code",
      "source": [
        "numero_ovos = 30\n",
        "numero_pessoas = 7\n",
        "print(\"Cada pessoa terá {} ovos\".format(numero_ovos // numero_pessoas))\n",
        "print(\"Sobrarão {} ovos\".format(numero_ovos % numero_pessoas))"
      ],
      "metadata": {
        "colab": {
          "base_uri": "https://localhost:8080/"
        },
        "id": "0SksXv3EqLaO",
        "outputId": "57fb85cd-a13c-4d0b-b221-ca1929fbb796"
      },
      "execution_count": null,
      "outputs": [
        {
          "output_type": "stream",
          "name": "stdout",
          "text": [
            "Cada pessoa terá 4 ovos\n",
            "Sobrarão 2 ovos\n"
          ]
        }
      ]
    },
    {
      "cell_type": "code",
      "source": [],
      "metadata": {
        "id": "rhFDqu4Iq0bO"
      },
      "execution_count": null,
      "outputs": []
    },
    {
      "cell_type": "markdown",
      "source": [
        "#<b>Operadores Lógicos"
      ],
      "metadata": {
        "id": "IcixYgUEp60S"
      }
    },
    {
      "cell_type": "code",
      "source": [],
      "metadata": {
        "id": "8qNtmEFQp_zC"
      },
      "execution_count": null,
      "outputs": []
    },
    {
      "cell_type": "markdown",
      "source": [
        "##Atividades"
      ],
      "metadata": {
        "id": "nuuMRWXEqAfs"
      }
    },
    {
      "cell_type": "markdown",
      "source": [
        "###1° - Questão"
      ],
      "metadata": {
        "id": "FhkF7pGsqDMJ"
      }
    },
    {
      "cell_type": "code",
      "source": [
        "falta_comida = True\n",
        "sabadou = False\n",
        "\n",
        "print(\"Preciso ir ao mercado? {}\".format(falta_comida or sabadou))"
      ],
      "metadata": {
        "colab": {
          "base_uri": "https://localhost:8080/"
        },
        "id": "FdUG5afKqCR1",
        "outputId": "6b8a8fea-59e4-4553-aa47-d1421c9169b4"
      },
      "execution_count": null,
      "outputs": [
        {
          "output_type": "stream",
          "name": "stdout",
          "text": [
            "Preciso ir ao mercado? True\n"
          ]
        }
      ]
    },
    {
      "cell_type": "markdown",
      "source": [
        "##2° - Questão"
      ],
      "metadata": {
        "id": "isqvBg0Yqo08"
      }
    },
    {
      "cell_type": "code",
      "source": [
        "sinal_vermelho = True\n",
        "carro_vindo_direita = False\n",
        "carro_vindo_esquerda = True\n",
        "\n",
        "print(\"Posso atravessar a rua? {}\".format(sinal_vermelho and not carro_vindo_direita and not carro_vindo_esquerda))"
      ],
      "metadata": {
        "colab": {
          "base_uri": "https://localhost:8080/"
        },
        "id": "-CGshW4vqkGd",
        "outputId": "e7514fb8-0cd8-4a09-fb31-92e25883a1f5"
      },
      "execution_count": null,
      "outputs": [
        {
          "output_type": "stream",
          "name": "stdout",
          "text": [
            "Posso atravessar a rua? False\n"
          ]
        }
      ]
    },
    {
      "cell_type": "markdown",
      "source": [
        "###3° - Questão"
      ],
      "metadata": {
        "id": "QSPUUMwdr20h"
      }
    },
    {
      "cell_type": "code",
      "source": [
        "sinal_vermelho = True\n",
        "carro_vindo_direita = False\n",
        "carro_vindo_esquerda = True\n",
        "\n",
        "print(\"Posso atravessar a rua? {}\".format(sinal_vermelho or not carro_vindo_direita and not carro_vindo_esquerda))"
      ],
      "metadata": {
        "colab": {
          "base_uri": "https://localhost:8080/"
        },
        "id": "ww9kALGtrnxE",
        "outputId": "508d26ea-3b04-4830-dec5-7e5e53dc79c2"
      },
      "execution_count": null,
      "outputs": [
        {
          "output_type": "stream",
          "name": "stdout",
          "text": [
            "Posso atravessar a rua? True\n"
          ]
        }
      ]
    },
    {
      "cell_type": "code",
      "source": [],
      "metadata": {
        "id": "XH1-QwVVsChZ"
      },
      "execution_count": null,
      "outputs": []
    },
    {
      "cell_type": "markdown",
      "source": [
        "#<b>Type e Casting"
      ],
      "metadata": {
        "id": "sTUP2nBht6Of"
      }
    },
    {
      "cell_type": "code",
      "source": [
        "# Type\n",
        "inteiro = 1\n",
        "flutuante = 1.5\n",
        "texto = \"texto\"\n",
        "booleano = True\n",
        "\n",
        "print(type(inteiro))\n",
        "print(type(flutuante))\n",
        "print(type(texto))\n",
        "print(type(booleano))"
      ],
      "metadata": {
        "colab": {
          "base_uri": "https://localhost:8080/"
        },
        "id": "wXBiaseWuBOn",
        "outputId": "49600535-1f4a-4ae8-ec3b-e12d8b8b172b"
      },
      "execution_count": null,
      "outputs": [
        {
          "output_type": "stream",
          "name": "stdout",
          "text": [
            "<class 'int'>\n",
            "<class 'float'>\n",
            "<class 'str'>\n",
            "<class 'bool'>\n"
          ]
        }
      ]
    },
    {
      "cell_type": "code",
      "source": [
        "# Casting\n",
        "numero_decimal = 1.5\n",
        "\n",
        "print(int(numero_decimal))"
      ],
      "metadata": {
        "colab": {
          "base_uri": "https://localhost:8080/"
        },
        "id": "7ZAOwr_juEt5",
        "outputId": "80a26bd0-fe16-492d-b228-3b29697898dd"
      },
      "execution_count": null,
      "outputs": [
        {
          "output_type": "stream",
          "name": "stdout",
          "text": [
            "1\n"
          ]
        }
      ]
    },
    {
      "cell_type": "code",
      "source": [
        "#Contando o número de digitos\n",
        "numero = 15220\n",
        "print(len(str(numero)))"
      ],
      "metadata": {
        "colab": {
          "base_uri": "https://localhost:8080/"
        },
        "id": "rf5M4iGAuJRY",
        "outputId": "0a7c2638-5905-425e-d988-f95d5c8f9054"
      },
      "execution_count": null,
      "outputs": [
        {
          "output_type": "stream",
          "name": "stdout",
          "text": [
            "5\n"
          ]
        }
      ]
    },
    {
      "cell_type": "code",
      "source": [
        "#Casting com Booleano\n",
        "numero = None\n",
        "texto = \"\"\n",
        "texto_preenchido = \"Tem algo aqui\"\n",
        "\n",
        "print(bool(numero))\n",
        "print(bool(texto))\n",
        "print(bool(texto_preenchido))"
      ],
      "metadata": {
        "colab": {
          "base_uri": "https://localhost:8080/"
        },
        "id": "TQAHm795uOCi",
        "outputId": "31305f57-f2da-4bfc-db9a-bb7033588938"
      },
      "execution_count": null,
      "outputs": [
        {
          "output_type": "stream",
          "name": "stdout",
          "text": [
            "False\n",
            "False\n",
            "True\n"
          ]
        }
      ]
    },
    {
      "cell_type": "markdown",
      "source": [
        "##Atividade"
      ],
      "metadata": {
        "id": "obmWW8s97ZCv"
      }
    },
    {
      "cell_type": "markdown",
      "source": [
        "###1° - Questão"
      ],
      "metadata": {
        "id": "c-ekIHbT7gA4"
      }
    },
    {
      "cell_type": "code",
      "source": [
        "saldo = \"1000\"\n",
        "\n",
        "saldo_casting = float(saldo)\n",
        "saldo_casting = saldo_casting - 1000\n",
        "\n",
        "print(\"Saldo atual descontado R$1.000,00: R${:.2f}\".format(saldo_casting))"
      ],
      "metadata": {
        "colab": {
          "base_uri": "https://localhost:8080/"
        },
        "id": "sLOLhFt77L58",
        "outputId": "593434ac-969e-463a-df1d-7fc340913917"
      },
      "execution_count": null,
      "outputs": [
        {
          "output_type": "stream",
          "name": "stdout",
          "text": [
            "Saldo atual descontado R$1.000,00: R$0.00\n"
          ]
        }
      ]
    },
    {
      "cell_type": "markdown",
      "source": [
        "###2° - Questão"
      ],
      "metadata": {
        "id": "3ciQZDYe8NnG"
      }
    },
    {
      "cell_type": "code",
      "source": [
        "status_saldo = bool(saldo_casting)\n",
        "print(\"Sua conta está zerada? {}\".format(not status_saldo))"
      ],
      "metadata": {
        "colab": {
          "base_uri": "https://localhost:8080/"
        },
        "id": "c7cI9HHW7eTn",
        "outputId": "577d9736-867c-46ad-9b43-ba7d2d2e1dcc"
      },
      "execution_count": null,
      "outputs": [
        {
          "output_type": "stream",
          "name": "stdout",
          "text": [
            "Sua conta está zerada? True\n"
          ]
        }
      ]
    },
    {
      "cell_type": "markdown",
      "source": [
        "###3° - Questão"
      ],
      "metadata": {
        "id": "R9bW1h6e9y1U"
      }
    },
    {
      "cell_type": "code",
      "source": [
        "altura = 1.75\n",
        "\n",
        "print(\"A estimativa da sua altura é {} metro(s)\".format(int(altura)))"
      ],
      "metadata": {
        "colab": {
          "base_uri": "https://localhost:8080/"
        },
        "id": "iVYgyl1F8q7S",
        "outputId": "6a9aadea-dd8e-4c9a-826a-14f8fad43fc4"
      },
      "execution_count": null,
      "outputs": [
        {
          "output_type": "stream",
          "name": "stdout",
          "text": [
            "A estimativa da sua altura é 1 metro(s)\n"
          ]
        }
      ]
    },
    {
      "cell_type": "code",
      "source": [],
      "metadata": {
        "id": "bLbB0SYy-Cq8"
      },
      "execution_count": null,
      "outputs": []
    },
    {
      "cell_type": "markdown",
      "source": [
        "#<b>Lendo Entradas do Usuário"
      ],
      "metadata": {
        "id": "3-y5zXLCfv6x"
      }
    },
    {
      "cell_type": "code",
      "source": [
        "#Input é sempre texto\n",
        "valor = input()\n",
        "print(type(valor))"
      ],
      "metadata": {
        "colab": {
          "base_uri": "https://localhost:8080/"
        },
        "id": "Run8ZnV1fziK",
        "outputId": "6da2d7ce-fd6c-4bb5-872f-9ad60f08fc97"
      },
      "execution_count": null,
      "outputs": [
        {
          "output_type": "stream",
          "name": "stdout",
          "text": [
            "1\n",
            "<class 'str'>\n"
          ]
        }
      ]
    },
    {
      "cell_type": "code",
      "source": [
        "#Para fazer um calculo tem que fazer um Casting\n",
        "valor_inteiro = int(valor)\n",
        "valor_inteiro += 1\n",
        "print(valor_inteiro)"
      ],
      "metadata": {
        "colab": {
          "base_uri": "https://localhost:8080/"
        },
        "id": "fY3rRaCif3as",
        "outputId": "44591f1b-c352-4887-e254-fd22d2d8df2b"
      },
      "execution_count": null,
      "outputs": [
        {
          "output_type": "stream",
          "name": "stdout",
          "text": [
            "2\n"
          ]
        }
      ]
    },
    {
      "cell_type": "code",
      "source": [
        "#Input com texto\n",
        "texto = input(\"Digite um número inteiro: \")\n",
        "print(\"O número digitado foi: {}\".format(texto))\n",
        "print(type(texto))"
      ],
      "metadata": {
        "colab": {
          "base_uri": "https://localhost:8080/"
        },
        "id": "EWgVSuNugDWc",
        "outputId": "59105902-8079-412f-dfc5-67e573d2e528"
      },
      "execution_count": null,
      "outputs": [
        {
          "output_type": "stream",
          "name": "stdout",
          "text": [
            "Digite um número inteiro: 20\n",
            "O número digitado foi: 20\n",
            "<class 'str'>\n"
          ]
        }
      ]
    },
    {
      "cell_type": "code",
      "source": [
        "#Transformando Input para valor lógico"
      ],
      "metadata": {
        "id": "xKt88rp4gZmR"
      },
      "execution_count": null,
      "outputs": []
    },
    {
      "cell_type": "code",
      "source": [
        "valor_logico = bool(valor_inteiro) #Tem que transformar o valor para inteiro primeiro (0 ou 1)\n",
        "print(valor_logico)"
      ],
      "metadata": {
        "colab": {
          "base_uri": "https://localhost:8080/"
        },
        "id": "13P8vWyZhHT-",
        "outputId": "02a051b3-de3f-445e-e2cb-7c4f362828b4"
      },
      "execution_count": null,
      "outputs": [
        {
          "output_type": "stream",
          "name": "stdout",
          "text": [
            "False\n"
          ]
        }
      ]
    },
    {
      "cell_type": "markdown",
      "source": [
        "##Atividades"
      ],
      "metadata": {
        "id": "p0Red4OFjjQa"
      }
    },
    {
      "cell_type": "markdown",
      "source": [
        "###1° - Questão"
      ],
      "metadata": {
        "id": "iUunWAU-jmLx"
      }
    },
    {
      "cell_type": "code",
      "source": [
        "numero1 = float(input(\"Digite o primeiro número: \"))\n",
        "numero2 = float(input(\"Digite o segundo número: \"))\n",
        "print(\"Divisão: {}\".format(numero1 / numero2))"
      ],
      "metadata": {
        "colab": {
          "base_uri": "https://localhost:8080/"
        },
        "id": "0gGLA1ywi9FJ",
        "outputId": "70ca2c35-5afe-40d6-f0e3-73a99a38c92c"
      },
      "execution_count": null,
      "outputs": [
        {
          "output_type": "stream",
          "name": "stdout",
          "text": [
            "Digite o primeiro número: 5\n",
            "Digite o segundo número: 2.5\n",
            "Divisão: 2.0\n"
          ]
        }
      ]
    },
    {
      "cell_type": "markdown",
      "source": [
        "###2° - Questão"
      ],
      "metadata": {
        "id": "L-fBQ9JbkoAK"
      }
    },
    {
      "cell_type": "code",
      "source": [
        "print(\"Sobre o seu nascimento, digite: \")\n",
        "dia = int(input(\"O dia: \")); mes = input(\"O mês: \"); ano = int(input(\"O ano: \")); hora = int(input(\"A hora: \"))\n",
        "minutos = int(input(\"Os minutos: \")); segundos = int(input(\"OS segundos: \"))\n",
        "print(\"Você nasceu no dia: {}/{}/{} às {}:{}:{}\".format(dia, mes, ano, hora, minutos, segundos))"
      ],
      "metadata": {
        "colab": {
          "base_uri": "https://localhost:8080/"
        },
        "id": "YpoXEcuAkOk6",
        "outputId": "4e92b34d-4b75-447a-fcd4-9346e63af905"
      },
      "execution_count": null,
      "outputs": [
        {
          "output_type": "stream",
          "name": "stdout",
          "text": [
            "Sobre o seu nascimento, digite: \n",
            "O dia: 23\n",
            "O mês: 11\n",
            "O ano: 1994\n",
            "A hora: 10\n",
            "Os minutos: 51\n",
            "OS segundos: 10\n",
            "Você nasceu no dia: 23/11/1994 às 10:51:10\n"
          ]
        }
      ]
    },
    {
      "cell_type": "markdown",
      "source": [
        "#<br>Atribuição e Combinação de Operadores Lógicos"
      ],
      "metadata": {
        "id": "wFcGdQdOnnQe"
      }
    },
    {
      "cell_type": "code",
      "source": [
        "#Usando o tipo booleano como condicional\n",
        "numero_teste = 10\n",
        "booleano_comparacao = (numero_teste == 10)\n",
        "print(booleano_comparacao)"
      ],
      "metadata": {
        "colab": {
          "base_uri": "https://localhost:8080/"
        },
        "id": "kEz1IiX6mS6k",
        "outputId": "11d3ad46-88f6-479b-dc29-3ff9cd6be75d"
      },
      "execution_count": null,
      "outputs": [
        {
          "output_type": "stream",
          "name": "stdout",
          "text": [
            "True\n"
          ]
        }
      ]
    },
    {
      "cell_type": "code",
      "source": [
        "#Teste lógico com booleano suando o type\n",
        "booleano_comparacao = (type(numero_teste) == int and (numero_teste >= 11 and numero_teste < 20))\n",
        "print(booleano_comparacao)"
      ],
      "metadata": {
        "colab": {
          "base_uri": "https://localhost:8080/"
        },
        "id": "OlUS4de9ol0H",
        "outputId": "8abab98e-954c-4b92-ba02-852be713b92e"
      },
      "execution_count": null,
      "outputs": [
        {
          "output_type": "stream",
          "name": "stdout",
          "text": [
            "False\n"
          ]
        }
      ]
    },
    {
      "cell_type": "markdown",
      "source": [
        "##Atividades"
      ],
      "metadata": {
        "id": "XXhqu7eorB19"
      }
    },
    {
      "cell_type": "markdown",
      "source": [
        "###1° - Questão"
      ],
      "metadata": {
        "id": "VbPFXsfirGn1"
      }
    },
    {
      "cell_type": "code",
      "source": [
        "nota_exame1 = float(input(\"Digite a nota do primeiro exame: \"))\n",
        "nota_exame2 = float(input(\"Digite a nota do segundo exame: \"))\n",
        "\n",
        "media = (nota_exame1 + nota_exame2) / 2\n",
        "\n",
        "aprovacao = (media >= 7.0) or ((nota_exame1 or nota_exame2) >= 5.0)\n",
        "print(aprovacao)"
      ],
      "metadata": {
        "colab": {
          "base_uri": "https://localhost:8080/"
        },
        "id": "7XqU1v0so8Yk",
        "outputId": "c031c528-0b74-4fc0-fed0-9759642d4d25"
      },
      "execution_count": null,
      "outputs": [
        {
          "output_type": "stream",
          "name": "stdout",
          "text": [
            "Digite a nota do primeiro exame: 4\n",
            "Digite a nota do segundo exame: 4\n",
            "False\n"
          ]
        }
      ]
    },
    {
      "cell_type": "markdown",
      "source": [
        "###2° - Questão"
      ],
      "metadata": {
        "id": "rHv2KupftZIf"
      }
    },
    {
      "cell_type": "code",
      "source": [
        "senha_correta = 54321\n",
        "senha_digitada = int(input(\"Digite a senha: \"))\n",
        "\n",
        "validacao_senha = (senha_digitada == senha_correta)\n",
        "print(\"Senha está: {}\".format(validacao_senha))"
      ],
      "metadata": {
        "colab": {
          "base_uri": "https://localhost:8080/"
        },
        "id": "DOicIV69tKpu",
        "outputId": "e4faf43a-83c2-4804-8d17-a9240051bd8b"
      },
      "execution_count": null,
      "outputs": [
        {
          "output_type": "stream",
          "name": "stdout",
          "text": [
            "Digite a senha: 54321\n",
            "Senha está: True\n"
          ]
        }
      ]
    },
    {
      "cell_type": "markdown",
      "source": [
        "#<br>Slicing e Strings"
      ],
      "metadata": {
        "id": "FuQEmQCMmEjr"
      }
    },
    {
      "cell_type": "markdown",
      "source": [
        "##Slice de Strings"
      ],
      "metadata": {
        "id": "0GXCaLfomnAd"
      }
    },
    {
      "cell_type": "code",
      "source": [
        "#A String é um vetor\n",
        "var = \"abcdefg\"\n",
        "print(var[0])\n",
        "print(var[1])\n",
        "print(var[2])\n",
        "print(var[3])\n",
        "print(var[4])\n",
        "print(var[5])\n",
        "print(var[6])"
      ],
      "metadata": {
        "colab": {
          "base_uri": "https://localhost:8080/"
        },
        "id": "5tJFRrgtmove",
        "outputId": "9e3630d4-e0aa-408f-c3d1-45e1fc769289"
      },
      "execution_count": null,
      "outputs": [
        {
          "output_type": "stream",
          "name": "stdout",
          "text": [
            "a\n",
            "b\n",
            "c\n",
            "d\n",
            "e\n",
            "f\n",
            "g\n"
          ]
        }
      ]
    },
    {
      "cell_type": "code",
      "source": [
        "#Chamando um intervalo de duas pontas de ums String\n",
        "print(var[1:3]) #Exclui o último"
      ],
      "metadata": {
        "colab": {
          "base_uri": "https://localhost:8080/"
        },
        "id": "B9R6nB06nA7o",
        "outputId": "f5824195-0856-4316-f777-54df4087bda7"
      },
      "execution_count": null,
      "outputs": [
        {
          "output_type": "stream",
          "name": "stdout",
          "text": [
            "bc\n"
          ]
        }
      ]
    },
    {
      "cell_type": "code",
      "source": [
        "#Chamando um intervalo de um ponto em diante\n",
        "print(var[3:])\n",
        "print(var[:5]) #Sempre exclui o último\n",
        "print(var[-4]) #Conta da direita para esquerda\n",
        "print(var[-4:])\n",
        "print(var[::-1]) #Inverte a String"
      ],
      "metadata": {
        "colab": {
          "base_uri": "https://localhost:8080/"
        },
        "id": "HYbRzPS5nObR",
        "outputId": "42e622ec-f4b1-489d-a274-a3dc02937cb9"
      },
      "execution_count": null,
      "outputs": [
        {
          "output_type": "stream",
          "name": "stdout",
          "text": [
            "defg\n",
            "abcde\n",
            "d\n",
            "defg\n",
            "gfedcba\n"
          ]
        }
      ]
    },
    {
      "cell_type": "markdown",
      "source": [
        "##Uso de Strings"
      ],
      "metadata": {
        "id": "RYJGATgNnvUQ"
      }
    },
    {
      "cell_type": "code",
      "source": [
        "#Concatenação de String\n",
        "texto_um = \"doidão \"; texto_dois = \"das \"; texto_tres = \"tapiocas\"\n",
        "texto_completo = texto_um + texto_dois + texto_tres\n",
        "print(\"{}\".format(texto_completo))"
      ],
      "metadata": {
        "id": "De-xFHGKnwwe",
        "colab": {
          "base_uri": "https://localhost:8080/"
        },
        "outputId": "0d300e53-5d6e-421a-d17a-0d0bf607ecbd"
      },
      "execution_count": null,
      "outputs": [
        {
          "output_type": "stream",
          "name": "stdout",
          "text": [
            "doidão das tapiocas\n"
          ]
        }
      ]
    },
    {
      "cell_type": "code",
      "source": [
        "#Concatenação co =+\n",
        "texto_c1 = \"Teste\"\n",
        "texto_c1 += \" do Teste\"\n",
        "print(texto_c1)"
      ],
      "metadata": {
        "colab": {
          "base_uri": "https://localhost:8080/"
        },
        "id": "2EYRX3QIVO9u",
        "outputId": "464ab9df-6d98-4f99-d7ac-a0c22f11ad21"
      },
      "execution_count": null,
      "outputs": [
        {
          "output_type": "stream",
          "name": "stdout",
          "text": [
            "Teste do Teste\n"
          ]
        }
      ]
    },
    {
      "cell_type": "code",
      "source": [
        "#Multiplicando Strings\n",
        "text_mult = \"texto \"\n",
        "print(text_mult * 3)"
      ],
      "metadata": {
        "id": "MWWMVj9foIfp",
        "colab": {
          "base_uri": "https://localhost:8080/"
        },
        "outputId": "5d9c360e-4c24-4742-e721-7becfb1a6b98"
      },
      "execution_count": null,
      "outputs": [
        {
          "output_type": "stream",
          "name": "stdout",
          "text": [
            "texto texto texto \n"
          ]
        }
      ]
    },
    {
      "cell_type": "code",
      "source": [
        "#Strings em python são imutáveis\n",
        "#Adicionando umm item à String\n",
        "text_mut = \"abcd\"\n",
        "text_mut = \"L\" + text_mut[2:]\n",
        "print(text_mut)"
      ],
      "metadata": {
        "id": "VepFU1p4oMa2",
        "colab": {
          "base_uri": "https://localhost:8080/"
        },
        "outputId": "f9b3e6fb-2829-48e3-8555-a46ec4788d52"
      },
      "execution_count": null,
      "outputs": [
        {
          "output_type": "stream",
          "name": "stdout",
          "text": [
            "Lcd\n"
          ]
        }
      ]
    },
    {
      "cell_type": "code",
      "source": [
        "#Retirando um item da String\n",
        "text_mut2 = \"Mirror\"\n",
        "text_mut2 = text_mut2[:3] + text_mut2[4:]\n",
        "print(text_mut2)"
      ],
      "metadata": {
        "colab": {
          "base_uri": "https://localhost:8080/"
        },
        "id": "gTZ3pPjqW_EW",
        "outputId": "58e5c81a-e8bb-41ec-dbd7-52c382310e31"
      },
      "execution_count": null,
      "outputs": [
        {
          "output_type": "stream",
          "name": "stdout",
          "text": [
            "Miror\n"
          ]
        }
      ]
    },
    {
      "cell_type": "markdown",
      "source": [
        "##Operadores de String"
      ],
      "metadata": {
        "id": "02BzMXtmYTeb"
      }
    },
    {
      "cell_type": "code",
      "source": [
        "#Operador lógico com Strings (== e =!)\n",
        "validacao_texto = text_mut2 == text_mut\n",
        "print(validacao_texto)\n",
        "print(text_mut, text_mut2, sep=\" - \")\n",
        "\n",
        "validacao_texto = text_mut2 != text_mut\n",
        "print(validacao_texto)\n",
        "print(text_mut, text_mut2, sep=\" - \")"
      ],
      "metadata": {
        "colab": {
          "base_uri": "https://localhost:8080/"
        },
        "id": "B7Ym33BtYU98",
        "outputId": "bf1f5b3e-3a08-4b4e-9269-30847da6634d"
      },
      "execution_count": null,
      "outputs": [
        {
          "output_type": "stream",
          "name": "stdout",
          "text": [
            "False\n",
            "Lcd - Miror\n",
            "True\n",
            "Lcd - Miror\n"
          ]
        }
      ]
    },
    {
      "cell_type": "code",
      "source": [
        "#Operador IN\n",
        "print(texto_c1); print(texto_tres)\n",
        "\n",
        "validacao_texto = \"t\" in (texto_c1 and texto_tres)\n",
        "print(validacao_texto)"
      ],
      "metadata": {
        "colab": {
          "base_uri": "https://localhost:8080/"
        },
        "id": "0WnM7yzxY6z1",
        "outputId": "9b5fa4dc-2c24-4f57-e55f-bfaf5c9f7289"
      },
      "execution_count": null,
      "outputs": [
        {
          "output_type": "stream",
          "name": "stdout",
          "text": [
            "Teste do Teste\n",
            "tapiocas\n",
            "True\n"
          ]
        }
      ]
    },
    {
      "cell_type": "code",
      "source": [
        "#Função \"len\"\n",
        "print(len(texto_c1))"
      ],
      "metadata": {
        "colab": {
          "base_uri": "https://localhost:8080/"
        },
        "id": "HNox9JR9ZGwE",
        "outputId": "c398f076-bc21-4292-ab9b-5b23c968de96"
      },
      "execution_count": null,
      "outputs": [
        {
          "output_type": "stream",
          "name": "stdout",
          "text": [
            "14\n"
          ]
        }
      ]
    },
    {
      "cell_type": "markdown",
      "source": [
        "##Atividades"
      ],
      "metadata": {
        "id": "u4ouFGVLbUZc"
      }
    },
    {
      "cell_type": "markdown",
      "source": [
        "###1° - Questão"
      ],
      "metadata": {
        "id": "LQ8UgPmebZdD"
      }
    },
    {
      "cell_type": "code",
      "source": [
        "name = \"Noé Martins\"\n",
        "first_name = name[:3]\n",
        "second_name = name[4:]\n",
        "\n",
        "print(\"O primeiro nome é: {}.\\nE o sobrenome é: {}\".format(first_name, second_name))"
      ],
      "metadata": {
        "colab": {
          "base_uri": "https://localhost:8080/"
        },
        "id": "H8hXEAYPbby0",
        "outputId": "df61f1a5-990c-4c99-bb0a-660ed6dffa42"
      },
      "execution_count": null,
      "outputs": [
        {
          "output_type": "stream",
          "name": "stdout",
          "text": [
            "O primeiro nome é: Noé.\n",
            "E o sobrenome é: Martins\n"
          ]
        }
      ]
    },
    {
      "cell_type": "markdown",
      "source": [
        "###2° - Questão"
      ],
      "metadata": {
        "id": "rlriY-1FcW4T"
      }
    },
    {
      "cell_type": "code",
      "source": [
        "string_qualquer = input(\"Digite uma String qualquer: \")\n",
        "last_char = string_qualquer[-1]\n",
        "print(last_char)"
      ],
      "metadata": {
        "colab": {
          "base_uri": "https://localhost:8080/"
        },
        "id": "mgZiB7qWcYys",
        "outputId": "966403b4-5905-46cb-c254-310b97035e97"
      },
      "execution_count": null,
      "outputs": [
        {
          "output_type": "stream",
          "name": "stdout",
          "text": [
            "Digite uma String qualquer: abcdefg\n",
            "g\n"
          ]
        }
      ]
    },
    {
      "cell_type": "markdown",
      "source": [
        "###3° - Questão"
      ],
      "metadata": {
        "id": "sHHidgfjfxnS"
      }
    },
    {
      "cell_type": "code",
      "source": [
        "string_vogal = input(\"Digite uma String qualquer: \")\n",
        "string_validacao = (\"a\" or \"e\" or \"i\" or \"o\" or \"u\") in string_vogal\n",
        "print(\"Existe vogal na palavra '{}'? {}\".format(string_vogal,string_validacao))"
      ],
      "metadata": {
        "colab": {
          "base_uri": "https://localhost:8080/"
        },
        "id": "AaUePhIzfza8",
        "outputId": "6c37c390-49c0-48f8-d926-3ac9d1c46775"
      },
      "execution_count": null,
      "outputs": [
        {
          "output_type": "stream",
          "name": "stdout",
          "text": [
            "Digite uma String qualquer: bnmk\n",
            "Existe vogal na palavra 'bnmk'? False\n"
          ]
        }
      ]
    },
    {
      "cell_type": "markdown",
      "source": [
        "###4° - Questão"
      ],
      "metadata": {
        "id": "6zUa-AIghQmL"
      }
    },
    {
      "cell_type": "code",
      "source": [
        "string_lida = input(\"Digite uma String qualquer: \")\n",
        "string_lida = \"ABC\" + string_lida\n",
        "print(string_lida)\n",
        "print(string_lida[0])"
      ],
      "metadata": {
        "colab": {
          "base_uri": "https://localhost:8080/"
        },
        "id": "BNCpp8vzhTLE",
        "outputId": "9df2f589-4e62-4d5e-8f40-46bc255dfcd9"
      },
      "execution_count": null,
      "outputs": [
        {
          "output_type": "stream",
          "name": "stdout",
          "text": [
            "Digite uma String qualquer: Boneco\n",
            "ABCBoneco\n",
            "A\n"
          ]
        }
      ]
    }
  ]
}
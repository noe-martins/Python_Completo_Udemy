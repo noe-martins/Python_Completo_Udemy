{
  "nbformat": 4,
  "nbformat_minor": 0,
  "metadata": {
    "colab": {
      "provenance": [],
      "toc_visible": true,
      "authorship_tag": "ABX9TyPR9SlFSx48B41jFf1aLhOB",
      "include_colab_link": true
    },
    "kernelspec": {
      "name": "python3",
      "display_name": "Python 3"
    },
    "language_info": {
      "name": "python"
    }
  },
  "cells": [
    {
      "cell_type": "markdown",
      "metadata": {
        "id": "view-in-github",
        "colab_type": "text"
      },
      "source": [
        "<a href=\"https://colab.research.google.com/github/noe-martins/Python_Completo_Udemy/blob/main/Se%C3%A7%C3%A3o_4_Listas.ipynb\" target=\"_parent\"><img src=\"https://colab.research.google.com/assets/colab-badge.svg\" alt=\"Open In Colab\"/></a>"
      ]
    },
    {
      "cell_type": "markdown",
      "source": [
        "#List"
      ],
      "metadata": {
        "id": "si5uatr7h2XC"
      }
    },
    {
      "cell_type": "markdown",
      "source": [
        "##Parte 1"
      ],
      "metadata": {
        "id": "lE2ynkfENy5o"
      }
    },
    {
      "cell_type": "code",
      "execution_count": null,
      "metadata": {
        "colab": {
          "base_uri": "https://localhost:8080/"
        },
        "id": "wHUkguZmdpUI",
        "outputId": "1b426abd-43c7-49f1-d16f-55b2f8f4ed9d"
      },
      "outputs": [
        {
          "output_type": "stream",
          "name": "stdout",
          "text": [
            "[1, 2, 3]\n",
            "[1.2, 3.5]\n",
            "['D', 'Noé']\n",
            "[1, 2.2, 'ANA']\n",
            "<class 'int'>\n",
            "<class 'float'>\n",
            "<class 'str'>\n",
            "<class 'int'>\n",
            "<class 'float'>\n",
            "<class 'str'>\n"
          ]
        }
      ],
      "source": [
        "'''\n",
        "Declaração de um list ou array\n",
        "'''\n",
        "#Array vazio\n",
        "array = []\n",
        "\n",
        "'''\n",
        "Tipos de array\n",
        "'''\n",
        "array_int = [1,2,3]\n",
        "array_floats = [1.2,3.5]\n",
        "array_str = ['D', 'Noé']\n",
        "array_misto = [1, 2.2, 'ANA']\n",
        "\n",
        "print(array_int)\n",
        "print(array_floats)\n",
        "print(array_str)\n",
        "print(array_misto)\n",
        "for i in range(0, len(array_misto)):\n",
        "  print(type(array_misto[i]))\n",
        "\n",
        "for x in array_misto:\n",
        "    print(type(x))"
      ]
    },
    {
      "cell_type": "code",
      "source": [
        "'''\n",
        "Modificando um elemento do Array\n",
        "'''\n",
        "array_original = list([1, 5, 56])\n",
        "print(\"Array original = {}\".format(array_original))\n",
        "\n",
        "array_original[1] = 100\n",
        "print(\"Array modificado = {}\".format(array_original))"
      ],
      "metadata": {
        "colab": {
          "base_uri": "https://localhost:8080/"
        },
        "id": "kTL9ZG1LfytS",
        "outputId": "0f7a9eb5-0764-4369-b5e8-989dc476c98a"
      },
      "execution_count": null,
      "outputs": [
        {
          "output_type": "stream",
          "name": "stdout",
          "text": [
            "Array original = [1, 5, 56]\n",
            "Array modificado = [1, 100, 56]\n"
          ]
        }
      ]
    },
    {
      "cell_type": "code",
      "source": [
        "'''\n",
        "Impressão de Array\n",
        "'''\n",
        "array_imprimir = [1, 'A', True]\n",
        "print(array_imprimir[:1]) #Sempre exclui o último\n",
        "print(array_imprimir[-1]) #Conta da direita para esquerda\n",
        "print(array_imprimir[-2:])\n",
        "print(array_imprimir[::-1]) #Inverte a String\n",
        "print(array_imprimir[1:])"
      ],
      "metadata": {
        "colab": {
          "base_uri": "https://localhost:8080/"
        },
        "id": "M36q76BXj5CT",
        "outputId": "2972b480-040f-4b6c-873c-9fefc337e780"
      },
      "execution_count": null,
      "outputs": [
        {
          "output_type": "stream",
          "name": "stdout",
          "text": [
            "[1]\n",
            "True\n",
            "['A', True]\n",
            "[True, 'A', 1]\n",
            "['A', True]\n"
          ]
        }
      ]
    },
    {
      "cell_type": "code",
      "source": [
        "array_inserir = [25, 50, 100]\n",
        "print(array_inserir)\n",
        "\n",
        "array_inserir.remove(25)\n",
        "print(array_inserir)"
      ],
      "metadata": {
        "colab": {
          "base_uri": "https://localhost:8080/"
        },
        "id": "7d672b2Qks1M",
        "outputId": "543736a5-b2f7-4639-997d-d401714121d9"
      },
      "execution_count": null,
      "outputs": [
        {
          "output_type": "stream",
          "name": "stdout",
          "text": [
            "[25, 50, 100]\n",
            "[50, 100]\n"
          ]
        }
      ]
    },
    {
      "cell_type": "code",
      "source": [
        "'''\n",
        "Operações com Array ou List\n",
        "'''\n",
        "array_ref = [1, 2.6, True, 'Ana', 2.6, 2.6]\n",
        "print(\"Array de Referência: {}\".format(array_ref))\n",
        "\n",
        "#Adicionar um elemento ao final da lista\n",
        "array_ref.append(50)\n",
        "print(\"Array (.append) = {}\".format(array_ref))\n",
        "\n",
        "#Adicionar um elemento em um índice específico\n",
        "array_ref.insert(2, 'Noé')\n",
        "print(\"Array (.insert) = {}\".format(array_ref))\n",
        "\n",
        "#Remover um elemento específico\n",
        "array_ref.remove('Ana')\n",
        "print(\"Array (.remove) = {}\".format(array_ref))\n",
        "\n",
        "#Remover um elemento de uma posição específica\n",
        "array_ref.pop(0)\n",
        "print(\"Array (.pop) = {}\".format(array_ref))\n",
        "\n",
        "#Cumprimento da List\n",
        "print(\"Tamanho do Array = {}\".format(len(array_ref)))\n",
        "\n",
        "#Condições com a List\n",
        "print(\"O número 2.6 está no Array? R: {}\".format(2.6 in array_ref))\n",
        "print(\"O 'True' não está no Array! R: {}\".format(True not in array_ref))\n",
        "\n",
        "#Quantidade do elemento específico na List\n",
        "print(\"Quantidade do elemento '2.6' = {}x\".format(array_ref.count(2.6)))\n",
        "\n",
        "#Indice do elemento específico\n",
        "print(\"Posição do elemento 'Noé' = {}\".format(array_ref.index('Noé')))\n",
        "\n",
        "#Limpar uma List\n",
        "array_ref.clear()\n",
        "print(\"Array (.clear) = {}\".format(array_ref))"
      ],
      "metadata": {
        "id": "Zad-RL35pPeY",
        "colab": {
          "base_uri": "https://localhost:8080/"
        },
        "outputId": "7bd4b9f4-3c75-4b06-ea82-aabbe3b8de58"
      },
      "execution_count": null,
      "outputs": [
        {
          "output_type": "stream",
          "name": "stdout",
          "text": [
            "Array de Referência: [1, 2.6, True, 'Ana', 2.6, 2.6]\n",
            "Array (.append) = [1, 2.6, True, 'Ana', 2.6, 2.6, 50]\n",
            "Array (.insert) = [1, 2.6, 'Noé', True, 'Ana', 2.6, 2.6, 50]\n",
            "Array (.remove) = [1, 2.6, 'Noé', True, 2.6, 2.6, 50]\n",
            "Array (.pop) = [2.6, 'Noé', True, 2.6, 2.6, 50]\n",
            "Tamanho do Array = 6\n",
            "O número 2.6 está no Array? R: True\n",
            "O 'True' não está no Array! R: False\n",
            "Quantidade do elemento '2.6' = 3x\n",
            "Posição do elemento 'Noé' = 1\n",
            "Array (.clear) = []\n"
          ]
        }
      ]
    },
    {
      "cell_type": "markdown",
      "source": [
        "##Parte 2"
      ],
      "metadata": {
        "id": "fPhxjXPhN5AP"
      }
    },
    {
      "cell_type": "code",
      "source": [
        "'''\n",
        "Operações com Array ou List\n",
        "'''\n",
        "#Somando Arrays\n",
        "array_1 = [1,2,3]\n",
        "array_2 = [4,5,6]\n",
        "print(\"Array (Soma) = {}\".format(array_1 + array_2))\n",
        "\n",
        "#Multiplicando Array\n",
        "print(\"Array (multiplicando) = {}\".format(array_1 * 3))\n",
        "\n",
        "#Desempacotar um Array\n",
        "array_numeros = [\"um\", \"dois\", \"tres\"]\n",
        "x,y,z = array_numeros\n",
        "print(\"Array (desempacotado em variáveis) = {}, {}, {}\".format(x, y, z))\n",
        "\n",
        "#Percorrer Array\n",
        "#Forma deselegante\n",
        "array_percorrer = [6, \"A\", 5.67]\n",
        "i = 0\n",
        "while(i < len(array_percorrer)):\n",
        "  print(\"Percorrer (While) = {}\".format(array_percorrer[i]))\n",
        "  i += 1\n",
        "\n",
        "#Forma menos deselegante\n",
        "for j in range(0, len(array_percorrer)):\n",
        "  print(\"Percorrer (For) = {}\".format(array_percorrer[j]))\n",
        "\n",
        "#Forma Elegante\n",
        "for x in array_percorrer:\n",
        "  print(\"Percorrer = {}\".format(x))\n",
        "\n",
        "#Lista de lista (Matriz)\n",
        "array_matriz = [[1,2,3], [7,8,9]]\n",
        "print(\"Matriz = {}\".format(array_matriz))\n",
        "print(\"Elementos da primeria Linha (Primeira Lista) = {}\".format(array_matriz[0]))\n",
        "print(\"Elementos da segunda Linha (Seguna Lista) = {}\".format(array_matriz[1]))\n",
        "print(\"Primeiro elemento da primeira Linha (Primeira Lista) = {}\".format(array_matriz[0][0]))\n",
        "print(\"Terceiro elemento da segunda Linha (Segunda Lista) = {}\".format(array_matriz[1][2]))"
      ],
      "metadata": {
        "id": "_ihdsh-CCDIY",
        "colab": {
          "base_uri": "https://localhost:8080/"
        },
        "outputId": "177bf09f-fe3e-48c0-edb4-cd80e4328e96"
      },
      "execution_count": null,
      "outputs": [
        {
          "output_type": "stream",
          "name": "stdout",
          "text": [
            "Array (Soma) = [1, 2, 3, 4, 5, 6]\n",
            "Array (multiplicando) = [1, 2, 3, 1, 2, 3, 1, 2, 3]\n",
            "Array (desempacotado em variáveis) = um, dois, tres\n",
            "Percorrer (While) = 6\n",
            "Percorrer (While) = A\n",
            "Percorrer (While) = 5.67\n",
            "Percorrer (For) = 6\n",
            "Percorrer (For) = A\n",
            "Percorrer (For) = 5.67\n",
            "Percorrer = 6\n",
            "Percorrer = A\n",
            "Percorrer = 5.67\n",
            "Matriz = [[1, 2, 3], [7, 8, 9]]\n",
            "Elementos da primeria Linha (Primeira Lista) = [1, 2, 3]\n",
            "Elementos da segunda Linha (Seguna Lista) = [7, 8, 9]\n",
            "Primeiro elemento da primeira Linha (Primeira Lista) = 1\n",
            "Terceiro elemento da segunda Linha (Segunda Lista) = 9\n"
          ]
        }
      ]
    },
    {
      "cell_type": "markdown",
      "source": [
        "#Set"
      ],
      "metadata": {
        "id": "jpI0WGQGhWyL"
      }
    },
    {
      "cell_type": "markdown",
      "source": [
        "##Parte 1"
      ],
      "metadata": {
        "id": "gope6s0Ghf-W"
      }
    },
    {
      "cell_type": "code",
      "source": [
        "'''\n",
        "Declaração do Set\n",
        "'''\n",
        "lista_set = {}\n",
        "lista2_set = set({})"
      ],
      "metadata": {
        "id": "gPdUpjCchhhn"
      },
      "execution_count": null,
      "outputs": []
    },
    {
      "cell_type": "code",
      "source": [
        "'''\n",
        "Operações com Set\n",
        "'''\n",
        "set_ref = {1,2,3}\n",
        "print(\"Set de referência = {}\".format(set_ref))\n",
        "#Set não permite iterar por índice\n",
        "\n",
        "#Adicionar um elemento no Set\n",
        "set_ref.add(4)\n",
        "print(\"Set (.add) = {}\".format(set_ref))\n",
        "\n",
        "#Remover um elemento no Set\n",
        "set_ref.remove(4)\n",
        "print(\"Set (.remove) = {}\".format(set_ref))\n",
        "\n",
        "#Não permite duplicidade\n",
        "set_ref.add(1)\n",
        "print(\"Set (adicionado o 1 sem duplicidade) = {}\".format(set_ref))\n",
        "\n",
        "#Limpando o Set\n",
        "set_ref.clear()\n",
        "print(\"Set (.clear) = {}\".format(set_ref))\n",
        "\n",
        "for i in range(0, 3):\n",
        "  set_ref.add(i+1)"
      ],
      "metadata": {
        "colab": {
          "base_uri": "https://localhost:8080/"
        },
        "id": "KfEHpeF9h7W-",
        "outputId": "121017ee-a49d-445f-babe-f23ef16b5398"
      },
      "execution_count": null,
      "outputs": [
        {
          "output_type": "stream",
          "name": "stdout",
          "text": [
            "Set de referência = {1, 2, 3}\n",
            "Set (.add) = {1, 2, 3, 4}\n",
            "Set (.remove) = {1, 2, 3}\n",
            "Set (adicionado o 1 sem duplicidade) = {1, 2, 3}\n",
            "Set (.clear) = set()\n",
            "{1, 2, 3}\n"
          ]
        }
      ]
    },
    {
      "cell_type": "markdown",
      "source": [
        "##Parte 2"
      ],
      "metadata": {
        "id": "GBXwPn2bj-3H"
      }
    },
    {
      "cell_type": "code",
      "source": [
        "'''\n",
        "Operações com Set\n",
        "'''\n",
        "#Tamanho do Set\n",
        "print(\"Set (Tamnho) = {}\".format(len(set_ref)))\n",
        "\n",
        "#Indentificar se contém elemento no Set\n",
        "print(\"Contém o elemento '3' = {}\".format(3 in set_ref))\n",
        "\n",
        "#Percorrer elementos de um Set\n",
        "k = 0\n",
        "for item in set_ref:\n",
        "  print(\"Elemento {} = {}\".format(k, item))\n",
        "  k += 1\n",
        "\n",
        "'''\n",
        "Operações de conjunto com Set\n",
        "'''\n",
        "print(\"\\nOPERAÇÕES DE CONJUNTO COM SET\")\n",
        "set_conjunto1 = {4,5,6}\n",
        "set_conjunto2 = {7,8,9}\n",
        "\n",
        "#União\n",
        "print(\"Set (.union) = {}\".format(set_conjunto1.union(set_conjunto2)))\n",
        "\n",
        "#Intersecção\n",
        "set_conjunto2.add(4)\n",
        "set_conjunto2.add(6)\n",
        "print(\"Set (Conjunto 1 - Atualizado) = {}\".format(set_conjunto1))\n",
        "print(\"Set (Conjunto 2 - Atualizado) = {}\".format(set_conjunto2))\n",
        "print(\"Set (.intersection) = {}\".format(set_conjunto1.intersection(set_conjunto2)))\n",
        "\n",
        "#Diferença\n",
        "print(\"Set (.difference) = {}\".format(set_conjunto1.difference(set_conjunto2)))"
      ],
      "metadata": {
        "colab": {
          "base_uri": "https://localhost:8080/"
        },
        "id": "Lp2-zQgxkAkJ",
        "outputId": "a8495b9c-a93a-4c20-cefc-873c163de566"
      },
      "execution_count": null,
      "outputs": [
        {
          "output_type": "stream",
          "name": "stdout",
          "text": [
            "Set (Tamnho) = 3\n",
            "Contém o elemento '3' = True\n",
            "Elemento 0 = 1\n",
            "Elemento 1 = 2\n",
            "Elemento 2 = 3\n",
            "\n",
            "OPERAÇÕES DE CONJUNTO COM SET\n",
            "Set (.union) = {4, 5, 6, 7, 8, 9}\n",
            "Set (Conjunto 1 - Atualizado) = {4, 5, 6}\n",
            "Set (Conjunto 2 - Atualizado) = {4, 6, 7, 8, 9}\n",
            "Set (.intersection) = {4, 6}\n",
            "Set (.difference) = {5}\n"
          ]
        }
      ]
    },
    {
      "cell_type": "markdown",
      "source": [
        "#Tuple"
      ],
      "metadata": {
        "id": "3zZmQ7FBqILW"
      }
    },
    {
      "cell_type": "code",
      "source": [
        "'''\n",
        "Mesma coisa que o List.\n",
        "Diferenças:\n",
        "- Não pode adicionar\n",
        "- Não pode remover\n",
        "- Não pode modificar\n",
        "\n",
        "obs: Para modificar só se fizer um casting para list\n",
        "'''\n",
        "\n",
        "#Declaração de Tuple\n",
        "lista_tuple = (4,5,6)\n",
        "lista2_tuple = tuple(())\n",
        "\n",
        "#Casting\n",
        "lista_set_normal = list(lista_tuple)\n",
        "print(\"Tuple impressa na List = {}\".format(lista_set_normal))\n",
        "lista_set_normal.append(50)\n",
        "lista_tuple = tuple(lista_set_normal)\n",
        "print(\"Tuple impressa após o casting = {}\".format(lista_tuple))"
      ],
      "metadata": {
        "colab": {
          "base_uri": "https://localhost:8080/"
        },
        "id": "MLHbFkETkPYb",
        "outputId": "a59e02cb-bcad-4aa9-f67b-f1a23d14deea"
      },
      "execution_count": null,
      "outputs": [
        {
          "output_type": "stream",
          "name": "stdout",
          "text": [
            "Tuple impressa na List = [4, 5, 6]\n",
            "Tuple impressa após o casting = (4, 5, 6, 50)\n"
          ]
        }
      ]
    },
    {
      "cell_type": "markdown",
      "source": [
        "#Dictionaries"
      ],
      "metadata": {
        "id": "1aIf5_kEtIH1"
      }
    },
    {
      "cell_type": "markdown",
      "source": [
        "##Parte 1"
      ],
      "metadata": {
        "id": "6UMiv8vwvZ1o"
      }
    },
    {
      "cell_type": "code",
      "source": [
        "'''\n",
        "Declaração dos Dictionaries\n",
        "'''\n",
        "\n",
        "dic_ref = {\"id\": 1,\n",
        "           \"nome\": \"Noé\",\n",
        "           \"sobrenome\": \"Martins\",\n",
        "           \"altura\": 1.75\n",
        "          }\n",
        "print(dic_ref)"
      ],
      "metadata": {
        "colab": {
          "base_uri": "https://localhost:8080/"
        },
        "id": "f-JG--Hfvbqp",
        "outputId": "5287606c-5c0b-47d4-9ddd-9d2602290659"
      },
      "execution_count": null,
      "outputs": [
        {
          "output_type": "stream",
          "name": "stdout",
          "text": [
            "{'id': 1, 'nome': 'Noé', 'sobrenome': 'Martins', 'altura': 1.75}\n"
          ]
        }
      ]
    },
    {
      "cell_type": "code",
      "source": [
        "'''\n",
        "Operações com Dictionaries\n",
        "'''\n",
        "\n",
        "#Consultar elemento pela chave\n",
        "print(\"O 'id' é: {}\".format(dic_ref['id']))\n",
        "print(\"O 'id' é: {}\".format(dic_ref.get(\"id\")))\n",
        "\n",
        "#Teste condicional\n",
        "print(\"Tem a chave 'telefone' na lista: {}\".format(\"telefone\" in dic_ref))\n",
        "\n",
        "#Modificando valor do elemento de uma chave\n",
        "dic_ref[\"altura\"] = 1.80\n",
        "print(\"Altura modificada (1° vez) = {}\".format(dic_ref.get(\"altura\")))\n",
        "\n",
        "dic_ref.update({\"altura\": 1.85})\n",
        "print(\"Altura modificada (2° vez) = {}\".format(dic_ref.get(\"altura\")))\n",
        "\n",
        "#Adicionando uma chave com o seu elemento\n",
        "dic_ref[\"telefone\"] = 5599999999\n",
        "print(\"Campo 'telefone' adicionado: {}\".format(dic_ref[\"telefone\"]))\n",
        "print(dic_ref)\n",
        "\n",
        "#Removendo chave específica\n",
        "dic_ref.pop(\"altura\")\n",
        "print(dic_ref)\n",
        "\n",
        "#Removendo a última chave adicionada\n",
        "dic_ref.popitem()\n",
        "print(dic_ref)"
      ],
      "metadata": {
        "colab": {
          "base_uri": "https://localhost:8080/"
        },
        "id": "dUrGfaLEwDVr",
        "outputId": "d87e17a4-8e6e-44d9-9a49-e2306f614f8a"
      },
      "execution_count": null,
      "outputs": [
        {
          "output_type": "stream",
          "name": "stdout",
          "text": [
            "O 'id' é: 1\n",
            "O 'id' é: 1\n",
            "Tem a chave 'telefone' na lista: False\n",
            "Altura modificada (1° vez) = 1.8\n",
            "Altura modificada (2° vez) = 1.85\n",
            "Campo 'telefone' adicionado: 5599999999\n",
            "{'id': 1, 'nome': 'Noé', 'sobrenome': 'Martins', 'altura': 1.85, 'telefone': 5599999999}\n",
            "{'id': 1, 'nome': 'Noé', 'sobrenome': 'Martins', 'telefone': 5599999999}\n",
            "{'id': 1, 'nome': 'Noé', 'sobrenome': 'Martins'}\n"
          ]
        }
      ]
    },
    {
      "cell_type": "markdown",
      "source": [
        "##Parte 2"
      ],
      "metadata": {
        "id": "LyPsX3wmzmhm"
      }
    },
    {
      "cell_type": "code",
      "source": [
        "'''\n",
        "Operações mais robustas com Dictionaries\n",
        "'''\n",
        "#Iterando um Dictionaries por uma Tupla\n",
        "lista_tupla = dic_ref.items()\n",
        "print(type(lista_tupla))\n",
        "print(lista_tupla)\n",
        "\n",
        "for item in lista_tupla:\n",
        "  print(\"{}: {}\".format(item[0], item[1]))\n",
        "\n",
        "#Acessando apenas \"chaves\" e \"elementos\"\n",
        "chaves = dic_ref.keys()\n",
        "elementos = dic_ref.values()\n",
        "print(type(chaves))\n",
        "print(type(elementos))\n",
        "\n",
        "print(\"\\nChaves\")\n",
        "for item in chaves:\n",
        "  print(item)\n",
        "print(\"\\nValores ou Elementos\")\n",
        "for item in elementos:\n",
        "  print(item)\n",
        "\n",
        "'''\n",
        "Adicionando elementos repetidos para o estudo abaixo\n",
        "'''\n",
        "print(dic_ref)\n",
        "dic_ref[\"familia\"] = \"Martins\"\n",
        "print(dic_ref)\n",
        "\n",
        "#Filtrar e contar elementos de uma Dictionaries usando List\n",
        "list_dic = list(dic_ref.values())\n",
        "print(\"Quantidade de vezes que tem 'Martins' = {}\".format(list_dic.count(\"Martins\")))\n",
        "\n",
        "#Limpar\n",
        "dic_ref.clear()\n",
        "print(dic_ref)"
      ],
      "metadata": {
        "colab": {
          "base_uri": "https://localhost:8080/"
        },
        "id": "uNrdUpnYzoGJ",
        "outputId": "807454dc-f88d-435a-9b2a-ea8b56f899eb"
      },
      "execution_count": null,
      "outputs": [
        {
          "output_type": "stream",
          "name": "stdout",
          "text": [
            "<class 'dict_items'>\n",
            "dict_items([('id', 1), ('nome', 'Noé'), ('sobrenome', 'Martins')])\n",
            "id: 1\n",
            "nome: Noé\n",
            "sobrenome: Martins\n",
            "<class 'dict_keys'>\n",
            "<class 'dict_values'>\n",
            "\n",
            "Chaves\n",
            "id\n",
            "nome\n",
            "sobrenome\n",
            "\n",
            "Valores ou Elementos\n",
            "1\n",
            "Noé\n",
            "Martins\n",
            "{'id': 1, 'nome': 'Noé', 'sobrenome': 'Martins'}\n",
            "{'id': 1, 'nome': 'Noé', 'sobrenome': 'Martins', 'familia': 'Martins'}\n",
            "Quantidade de vezes que tem 'Martins' = 2\n",
            "{}\n"
          ]
        }
      ]
    },
    {
      "cell_type": "markdown",
      "source": [
        "##Parte 3"
      ],
      "metadata": {
        "id": "Cg6mkeUe6XF9"
      }
    },
    {
      "cell_type": "code",
      "source": [
        "'''\n",
        "Dictionaries aninhados\n",
        "'''\n",
        "#MODO 1\n",
        "dados_joao = {\n",
        "    \"id\" : 1,\n",
        "    \"nome\" : \"João\",\n",
        "    \"sobrenome\" : \"Martins\"\n",
        "}\n",
        "dados_ana = {\n",
        "    \"id\" : 2,\n",
        "    \"nome\" : \"Ana\",\n",
        "    \"sobrenome\" : \"Blue\"\n",
        "}\n",
        "dados_maria = {\n",
        "    \"id\" : 3,\n",
        "    \"nome\" : \"Maria\",\n",
        "    \"sobrenome\" : \"José\"\n",
        "}\n",
        "\n",
        "dados_por_nome = {\n",
        "    \"joao\" : dados_joao,\n",
        "    \"ana\" : dados_ana,\n",
        "    \"maria\" : dados_maria\n",
        "}\n",
        "\n",
        "list_dados = dados_por_nome.items()\n",
        "for item in list_dados:\n",
        "  print(\"{}: {}\".format(item[0], item[1]))"
      ],
      "metadata": {
        "colab": {
          "base_uri": "https://localhost:8080/"
        },
        "id": "seTlLCOD6YtQ",
        "outputId": "64f8d4c3-94eb-4ef0-d096-bbc16885d6f0"
      },
      "execution_count": null,
      "outputs": [
        {
          "output_type": "stream",
          "name": "stdout",
          "text": [
            "joao: {'id': 1, 'nome': 'João', 'sobrenome': 'Martins'}\n",
            "ana: {'id': 2, 'nome': 'Ana', 'sobrenome': 'Blue'}\n",
            "maria: {'id': 3, 'nome': 'Maria', 'sobrenome': 'José'}\n"
          ]
        }
      ]
    },
    {
      "cell_type": "code",
      "source": [
        "#MODO 2\n",
        "dados_por_nome = {\n",
        "    \"joao\" : {\n",
        "        \"id\" : 1,\n",
        "        \"nome\" : \"João\",\n",
        "        \"sobrenome\" : \"Martins\"\n",
        "    },\n",
        "\n",
        "    \"ana\" : {\n",
        "        \"id\" : 2,\n",
        "        \"nome\" : \"Ana\",\n",
        "        \"sobrenome\" : \"Blue\"\n",
        "    },\n",
        "\n",
        "    \"maria\" : {\n",
        "        \"id\" : 3,\n",
        "        \"nome\" : \"Maria\",\n",
        "        \"sobrenome\" : \"José\"\n",
        "    }\n",
        "}\n",
        "\n",
        "list_dados = dados_por_nome.items()\n",
        "for item in list_dados:\n",
        "  print(\"{}: {}\".format(item[0], item[1]))"
      ],
      "metadata": {
        "colab": {
          "base_uri": "https://localhost:8080/"
        },
        "id": "hKmZSs7Q9N_m",
        "outputId": "9a54ee0e-3b70-498a-c8d1-cf0ba6d2048c"
      },
      "execution_count": null,
      "outputs": [
        {
          "output_type": "stream",
          "name": "stdout",
          "text": [
            "joao: {'id': 1, 'nome': 'João', 'sobrenome': 'Martins'}\n",
            "ana: {'id': 2, 'nome': 'Ana', 'sobrenome': 'Blue'}\n",
            "maria: {'id': 3, 'nome': 'Maria', 'sobrenome': 'José'}\n"
          ]
        }
      ]
    },
    {
      "cell_type": "code",
      "source": [
        "#Acessando um elemento específico\n",
        "print(dados_por_nome[\"ana\"][\"id\"])"
      ],
      "metadata": {
        "colab": {
          "base_uri": "https://localhost:8080/"
        },
        "id": "CKVGpCza-IM3",
        "outputId": "677e556c-3286-4466-ffd9-d5f8484f8942"
      },
      "execution_count": null,
      "outputs": [
        {
          "output_type": "stream",
          "name": "stdout",
          "text": [
            "2\n"
          ]
        }
      ]
    },
    {
      "cell_type": "markdown",
      "source": [
        "#List Comprehensions"
      ],
      "metadata": {
        "id": "GSGiQ-az4ZsI"
      }
    },
    {
      "cell_type": "markdown",
      "source": [
        "##Parte 1"
      ],
      "metadata": {
        "id": "UXfanIQj4hod"
      }
    },
    {
      "cell_type": "code",
      "source": [
        "'''\n",
        "Declaração da List comprehensions\n",
        "'''\n",
        "lista_comp = [x for x in range(1,11)]\n",
        "print(lista_comp)"
      ],
      "metadata": {
        "colab": {
          "base_uri": "https://localhost:8080/"
        },
        "id": "3kpCw9ei4jQK",
        "outputId": "926f4bd7-5b62-4444-d4b2-206be725393b"
      },
      "execution_count": null,
      "outputs": [
        {
          "output_type": "stream",
          "name": "stdout",
          "text": [
            "[1, 2, 3, 4, 5, 6, 7, 8, 9, 10]\n"
          ]
        }
      ]
    },
    {
      "cell_type": "code",
      "source": [
        "'''\n",
        "Operações com List comprehensions\n",
        "'''\n",
        "print(\"[REFERÊNCIA] - {}\".format(lista_comp))\n",
        "\n",
        "#Gerar lista a partir de outra list\n",
        "lista_new = [x for x in lista_comp]\n",
        "print(\"[A] - {}\".format(lista_new))\n",
        "\n",
        "#Lista com condicional\n",
        "lista_cond = [x for x in lista_comp if x % 2 == 0]\n",
        "print(\"[B] - {}\".format(lista_cond))\n",
        "\n",
        "#Lista com condicional booleano de outra lista\n",
        "lista_bool = [x for x in lista_comp if x not in lista_cond]\n",
        "print(\"[C] - {}\".format(lista_bool))\n",
        "\n",
        "#Lista com condicional composto\n",
        "lista_composto = [x for x in lista_comp if x > 2 if x < 9]\n",
        "print(\"[D] - {}\".format(lista_composto))\n",
        "\n",
        "#Alterando valores da lista (x)\n",
        "lista_alt = [x*2 for x in lista_comp]\n",
        "print(\"[E] - {}\".format(lista_alt))\n",
        "\n",
        "#Fazendo casting no x\n",
        "lista_string = [str(x*2) for x in lista_comp]\n",
        "print(\"[F] - {}\".format(lista_string))\n",
        "\n",
        "#Pegando só o primeiro elemento dessa string acima\n",
        "lista_stringMod = [str(x*2)[0] for x in lista_comp]\n",
        "print(\"[G] - {}\".format(lista_stringMod))\n",
        "\n",
        "#If ternário no x\n",
        "lista_tern = ['ímpar' if x % 2 != 0 else 'par' for x in lista_comp]\n",
        "print(\"[H] - {}\".format(lista_tern))\n",
        "\n"
      ],
      "metadata": {
        "colab": {
          "base_uri": "https://localhost:8080/"
        },
        "id": "JihFaVBO4-Sw",
        "outputId": "2f5091b1-6bf6-474a-fc03-1b9078ec9a05"
      },
      "execution_count": null,
      "outputs": [
        {
          "output_type": "stream",
          "name": "stdout",
          "text": [
            "[REFERÊNCIA] - [1, 2, 3, 4, 5, 6, 7, 8, 9, 10]\n",
            "[A] - [1, 2, 3, 4, 5, 6, 7, 8, 9, 10]\n",
            "[B] - [2, 4, 6, 8, 10]\n",
            "[C] - [1, 3, 5, 7, 9]\n",
            "[D] - [3, 4, 5, 6, 7, 8]\n",
            "[E] - [2, 4, 6, 8, 10, 12, 14, 16, 18, 20]\n",
            "[F] - ['2', '4', '6', '8', '10', '12', '14', '16', '18', '20']\n",
            "[G] - ['2', '4', '6', '8', '1', '1', '1', '1', '1', '2']\n",
            "[H] - ['ímpar', 'par', 'ímpar', 'par', 'ímpar', 'par', 'ímpar', 'par', 'ímpar', 'par']\n"
          ]
        }
      ]
    },
    {
      "cell_type": "markdown",
      "source": [
        "##Parte 2"
      ],
      "metadata": {
        "id": "gXpIwg2q_o_8"
      }
    },
    {
      "cell_type": "code",
      "source": [
        "'''\n",
        "Operações mais robustas com List comprehensions\n",
        "'''\n",
        "#Usando uma expressão Lambda\n",
        "lista_lambda = list(filter(lambda x: x % 2 == 0, lista_comp)) #Uso o list() p/ pode chamar o método filter()\n",
        "print(\"[A] - {}\".format(lista_lambda))\n",
        "\n",
        "#Criando uma matriz\n",
        "lista_matriz = [[x for x in range(1,4)] for y in range(1,4)] #Um list está dentro do outro\n",
        "print(\"[B] - {}\".format(lista_matriz))"
      ],
      "metadata": {
        "colab": {
          "base_uri": "https://localhost:8080/"
        },
        "id": "zce6PZes_qMt",
        "outputId": "7a325240-9762-44c5-900b-b80aeae15343"
      },
      "execution_count": null,
      "outputs": [
        {
          "output_type": "stream",
          "name": "stdout",
          "text": [
            "[A] - [2, 4, 6, 8, 10]\n",
            "[B] - [[1, 2, 3], [1, 2, 3], [1, 2, 3]]\n"
          ]
        }
      ]
    },
    {
      "cell_type": "markdown",
      "source": [
        "#Atividades"
      ],
      "metadata": {
        "id": "Nyy-Ssd-wC8n"
      }
    },
    {
      "cell_type": "markdown",
      "source": [
        "##Parte 1"
      ],
      "metadata": {
        "id": "PaoDEQsmwG7Z"
      }
    },
    {
      "cell_type": "code",
      "source": [
        "'''\n",
        "1\n",
        "'''\n",
        "lista_numeros = (1,10,6,7,8,10)\n",
        "sum = 0\n",
        "for x in lista_numeros:\n",
        "  sum += x\n",
        "print(sum)"
      ],
      "metadata": {
        "colab": {
          "base_uri": "https://localhost:8080/"
        },
        "id": "EEy4wi21wIAq",
        "outputId": "f1c2f294-3f5b-433e-f6f3-2584299dce3b"
      },
      "execution_count": null,
      "outputs": [
        {
          "output_type": "stream",
          "name": "stdout",
          "text": [
            "42\n"
          ]
        }
      ]
    },
    {
      "cell_type": "code",
      "source": [
        "'''\n",
        "2\n",
        "'''\n",
        "lista_cem = [x for x in range(1,101)]\n",
        "print(lista_cem)"
      ],
      "metadata": {
        "colab": {
          "base_uri": "https://localhost:8080/"
        },
        "id": "xhXHj7-UxOCx",
        "outputId": "cdd35893-aa26-4d16-deb0-d73401bbe54d"
      },
      "execution_count": null,
      "outputs": [
        {
          "output_type": "stream",
          "name": "stdout",
          "text": [
            "[1, 2, 3, 4, 5, 6, 7, 8, 9, 10, 11, 12, 13, 14, 15, 16, 17, 18, 19, 20, 21, 22, 23, 24, 25, 26, 27, 28, 29, 30, 31, 32, 33, 34, 35, 36, 37, 38, 39, 40, 41, 42, 43, 44, 45, 46, 47, 48, 49, 50, 51, 52, 53, 54, 55, 56, 57, 58, 59, 60, 61, 62, 63, 64, 65, 66, 67, 68, 69, 70, 71, 72, 73, 74, 75, 76, 77, 78, 79, 80, 81, 82, 83, 84, 85, 86, 87, 88, 89, 90, 91, 92, 93, 94, 95, 96, 97, 98, 99, 100]\n"
          ]
        }
      ]
    },
    {
      "cell_type": "code",
      "source": [
        "'''\n",
        "3\n",
        "'''\n",
        "lista_1 = {30,4,43,52,65,-10}\n",
        "lista_2 = {43,2,4,76,32,65,3}\n",
        "print(lista_1.union(lista_2))"
      ],
      "metadata": {
        "colab": {
          "base_uri": "https://localhost:8080/"
        },
        "id": "dt17X8D1x-Vl",
        "outputId": "9911b1d2-8cfb-445f-f608-d58ac74224d7"
      },
      "execution_count": null,
      "outputs": [
        {
          "output_type": "stream",
          "name": "stdout",
          "text": [
            "{32, 65, 2, 3, 4, 43, 76, 52, -10, 30}\n"
          ]
        }
      ]
    },
    {
      "cell_type": "code",
      "source": [
        "'''\n",
        "4\n",
        "'''\n",
        "lista_meses = ['janeiro', 'fevereiro', 'março', 'abril', 'maio', 'junho',\n",
        "               'julho', 'agosto', 'setembro', 'outubro', 'novembro', 'dezembro']\n",
        "mes_nascimento = int(input(\"Digite o mês em que nasceu: \"))\n",
        "print(lista_meses[mes_nascimento - 1])"
      ],
      "metadata": {
        "colab": {
          "base_uri": "https://localhost:8080/"
        },
        "id": "wdmCEnhRy_FA",
        "outputId": "ba09b2f0-06ca-42ac-aadb-a13de17c7356"
      },
      "execution_count": null,
      "outputs": [
        {
          "output_type": "stream",
          "name": "stdout",
          "text": [
            "Digite o mês em que nasceu: 11\n",
            "novembro\n"
          ]
        }
      ]
    },
    {
      "cell_type": "code",
      "source": [
        "'''\n",
        "5\n",
        "'''\n",
        "lista_novembro = [x for x in range(1,31)]\n",
        "lista_novembro.remove(int(input(\"Dia do seu aniversário: \")))\n",
        "print(lista_novembro)"
      ],
      "metadata": {
        "colab": {
          "base_uri": "https://localhost:8080/"
        },
        "id": "g0YD52A11OTY",
        "outputId": "a95f91b9-03cc-4ae1-a706-d193686d80dd"
      },
      "execution_count": null,
      "outputs": [
        {
          "output_type": "stream",
          "name": "stdout",
          "text": [
            "Dia do seu aniversário: 23\n",
            "[1, 2, 3, 4, 5, 6, 7, 8, 9, 10, 11, 12, 13, 14, 15, 16, 17, 18, 19, 20, 21, 22, 24, 25, 26, 27, 28, 29, 30]\n"
          ]
        }
      ]
    },
    {
      "cell_type": "markdown",
      "source": [
        "##Parte 2"
      ],
      "metadata": {
        "id": "yCv8XPcQbWKG"
      }
    },
    {
      "cell_type": "code",
      "source": [
        "'''\n",
        "6\n",
        "'''\n",
        "lista_objetos = {\n",
        "    \"caneta\": \"escrever\",\n",
        "    \"borracha\": \"apagar\",\n",
        "    \"caderno\": \"rasurar\"\n",
        "}\n",
        "objeto_procurado = input(\"Digite o objeto: \")\n",
        "if objeto_procurado in lista_objetos:\n",
        "  print(lista_objetos[objeto_procurado])\n",
        "else:\n",
        "  print(\"Objeto não existe na lista!\")"
      ],
      "metadata": {
        "colab": {
          "base_uri": "https://localhost:8080/"
        },
        "id": "cR-23NtSbXVE",
        "outputId": "b2e52c25-a16d-47e7-b80a-df939b69de21"
      },
      "execution_count": null,
      "outputs": [
        {
          "output_type": "stream",
          "name": "stdout",
          "text": [
            "Digite o objeto: pente\n",
            "Objeto não existe na lista!\n"
          ]
        }
      ]
    },
    {
      "cell_type": "code",
      "source": [
        "'''\n",
        "7\n",
        "'''\n",
        "print([x for x in range(-30,-19)])"
      ],
      "metadata": {
        "colab": {
          "base_uri": "https://localhost:8080/"
        },
        "id": "pO4TZgsadqdc",
        "outputId": "344c9050-1439-468c-85a2-ae6a6851a204"
      },
      "execution_count": null,
      "outputs": [
        {
          "output_type": "stream",
          "name": "stdout",
          "text": [
            "[-30, -29, -28, -27, -26, -25, -24, -23, -22, -21, -20]\n"
          ]
        }
      ]
    },
    {
      "cell_type": "code",
      "source": [
        "'''\n",
        "8\n",
        "'''\n",
        "print([x for x in range(4,99) if x % 4 == 0])"
      ],
      "metadata": {
        "colab": {
          "base_uri": "https://localhost:8080/"
        },
        "id": "_rY23v_AeLLE",
        "outputId": "44dfeec6-0a40-4a21-9ce4-0048fb48923c"
      },
      "execution_count": null,
      "outputs": [
        {
          "output_type": "stream",
          "name": "stdout",
          "text": [
            "[4, 8, 12, 16, 20, 24, 28, 32, 36, 40, 44, 48, 52, 56, 60, 64, 68, 72, 76, 80, 84, 88, 92, 96]\n"
          ]
        }
      ]
    },
    {
      "cell_type": "code",
      "source": [
        "'''\n",
        "9 - Meu jeito\n",
        "'''\n",
        "lista_desafio = [str(x) for x in range(0,101) if len(str(x)) >= 2 and str(x)[1] == '0' or str(x)[0] == '0']\n",
        "print(lista_desafio)"
      ],
      "metadata": {
        "colab": {
          "base_uri": "https://localhost:8080/"
        },
        "id": "XtSTMAzUeZuq",
        "outputId": "3a2fe4e9-9603-4c11-940e-7fa5cde94aef"
      },
      "execution_count": null,
      "outputs": [
        {
          "output_type": "stream",
          "name": "stdout",
          "text": [
            "['0', '10', '20', '30', '40', '50', '60', '70', '80', '90', '100']\n"
          ]
        }
      ]
    },
    {
      "cell_type": "code",
      "source": [
        "'''\n",
        "9 - Correção\n",
        "'''\n",
        "lista_desafio_corr = [str(x for x in range(0,101) if str(x)[-1] == '0')]\n",
        "print(lista_desafio)"
      ],
      "metadata": {
        "colab": {
          "base_uri": "https://localhost:8080/"
        },
        "id": "-g9gnQHIlrfr",
        "outputId": "f2303c50-9797-4c0c-f535-e73f312724d3"
      },
      "execution_count": null,
      "outputs": [
        {
          "output_type": "stream",
          "name": "stdout",
          "text": [
            "['0', '10', '20', '30', '40', '50', '60', '70', '80', '90', '100']\n"
          ]
        }
      ]
    },
    {
      "cell_type": "code",
      "source": [
        "'''\n",
        "10 - Meu jeito\n",
        "'''\n",
        "lista_array = [\"0\" if len(str(x)) >= 2 and str(x)[1] == '0' or str(x)[0] == '0' else \"-\" for x in range(0,21)]\n",
        "print(lista_array)"
      ],
      "metadata": {
        "colab": {
          "base_uri": "https://localhost:8080/"
        },
        "id": "4tmioKJajnuV",
        "outputId": "f68c4997-ed55-486e-aec4-6f8af891a800"
      },
      "execution_count": null,
      "outputs": [
        {
          "output_type": "stream",
          "name": "stdout",
          "text": [
            "['0', '-', '-', '-', '-', '-', '-', '-', '-', '-', '0', '-', '-', '-', '-', '-', '-', '-', '-', '-', '0']\n"
          ]
        }
      ]
    },
    {
      "cell_type": "code",
      "source": [
        "'''\n",
        "10 - Correção\n",
        "'''\n",
        "lista_array_corr = [\"0\" if str(x)[-1] == '0' else \"-\" for x in range(0,21)]\n",
        "print(lista_array_corr)"
      ],
      "metadata": {
        "colab": {
          "base_uri": "https://localhost:8080/"
        },
        "id": "tMmG_uMXl7Nf",
        "outputId": "4bb4061a-ff4f-4da4-dd64-8a69c23ce7c8"
      },
      "execution_count": null,
      "outputs": [
        {
          "output_type": "stream",
          "name": "stdout",
          "text": [
            "['0', '-', '-', '-', '-', '-', '-', '-', '-', '-', '0', '-', '-', '-', '-', '-', '-', '-', '-', '-', '0']\n"
          ]
        }
      ]
    }
  ]
}